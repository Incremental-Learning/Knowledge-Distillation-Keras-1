{
  "nbformat": 4,
  "nbformat_minor": 0,
  "metadata": {
    "colab": {
      "name": "Knowledge-Distillation-Notebook",
      "version": "0.3.2",
      "provenance": [],
      "collapsed_sections": [],
      "include_colab_link": true
    },
    "kernelspec": {
      "name": "python3",
      "display_name": "Python 3"
    },
    "accelerator": "GPU"
  },
  "cells": [
    {
      "cell_type": "markdown",
      "metadata": {
        "id": "view-in-github",
        "colab_type": "text"
      },
      "source": [
        "<a href=\"https://colab.research.google.com/github/patrickphatnguyen/Knowledge-Distillation-Keras/blob/master/Knowledge_Distillation_Notebook.ipynb\" target=\"_parent\"><img src=\"https://colab.research.google.com/assets/colab-badge.svg\" alt=\"Open In Colab\"/></a>"
      ]
    },
    {
      "cell_type": "markdown",
      "metadata": {
        "id": "AXtR3INVPcHJ",
        "colab_type": "text"
      },
      "source": [
        "# Distilling Knowledge in Neural Network\n",
        "\n",
        "The term \"Knowledge Distillation\" (a.k.a Teacher-Student Model) was first introduced by (Bu-cilu et al., 2006; Ba & Caruana,2014) and has been popularized by (Hinton et al., 2015), as a way to let smaller deep learning models learn how bigger ones generalize to large datasets, hence increase the performance of the smaller one. In this notebook, I'll try to explain the idea of knowledge distillation alongside with hands-on implementation of it.\n",
        "\n",
        "# The main idea\n"
      ]
    },
    {
      "cell_type": "markdown",
      "metadata": {
        "id": "ce65yuvootlq",
        "colab_type": "text"
      },
      "source": [
        "# Install and import requirements\n"
      ]
    },
    {
      "cell_type": "code",
      "metadata": {
        "id": "xWnbC2ooAfNf",
        "colab_type": "code",
        "colab": {}
      },
      "source": [
        "import tensorflow as tf\n",
        "import matplotlib.pyplot as plt \n",
        "import numpy as np\n",
        "from tensorflow.keras.models import Sequential, load_model, Model\n",
        "from tensorflow.keras.layers import Conv2D,GlobalAveragePooling2D,Dense,Softmax,Flatten,MaxPooling2D,Dropout,Activation, Lambda, concatenate\n",
        "from tensorflow.keras.callbacks import ModelCheckpoint\n",
        "from tensorflow.keras.losses import kullback_leibler_divergence as KLD_Loss, categorical_crossentropy as logloss\n",
        "from tensorflow.keras.utils import to_categorical\n",
        "from tensorflow.keras.metrics import categorical_accuracy\n",
        "import seaborn as sns"
      ],
      "execution_count": 0,
      "outputs": []
    },
    {
      "cell_type": "markdown",
      "metadata": {
        "id": "2wQvkPoB7Cnr",
        "colab_type": "text"
      },
      "source": [
        "#  Load and preprocess the data"
      ]
    },
    {
      "cell_type": "code",
      "metadata": {
        "id": "N4nKTacmAjXh",
        "colab_type": "code",
        "outputId": "9212669a-2d36-4b8d-8d04-18529cff753f",
        "colab": {
          "base_uri": "https://localhost:8080/",
          "height": 34
        }
      },
      "source": [
        "NUM_CLASSES = 10\n",
        "(x_train, y_train), (x_test, y_test) = tf.keras.datasets.cifar10.load_data()\n",
        "print(\"x_train shape:\", x_train.shape, \"y_train shape:\", y_train.shape)\n",
        "\n",
        "# Normalize the dataset\n",
        "x_train = x_train.astype('float32') / 255\n",
        "x_test = x_test.astype('float32') / 255\n",
        "\n",
        "# Reshape each example to WIDTH*HEIGHT*CHANNELS for Convolution operation\n",
        "# x_test = x_test.reshape(-1,,28,1)\n",
        "# x_train = x_train.reshape(-1,28,28,1)\n"
      ],
      "execution_count": 0,
      "outputs": [
        {
          "output_type": "stream",
          "text": [
            "x_train shape: (50000, 32, 32, 3) y_train shape: (50000, 1)\n"
          ],
          "name": "stdout"
        }
      ]
    },
    {
      "cell_type": "markdown",
      "metadata": {
        "id": "rYDhVMdU7dWN",
        "colab_type": "text"
      },
      "source": [
        "# Create teacher model"
      ]
    },
    {
      "cell_type": "code",
      "metadata": {
        "id": "B_EpiY-nA8u6",
        "colab_type": "code",
        "outputId": "f544b054-5860-467b-f271-01b4a5c1f9c8",
        "colab": {
          "base_uri": "https://localhost:8080/",
          "height": 558
        }
      },
      "source": [
        "Teacher = Sequential() # Must define the input shape in the first layer of the neural network\n",
        "Teacher.add(Conv2D(filters=32, kernel_size=2, padding='same', activation='relu', input_shape=(32,32,3)))\n",
        "Teacher.add(MaxPooling2D(pool_size=2))\n",
        "Teacher.add(Conv2D(filters=64, kernel_size=2, padding='same', activation='relu'))\n",
        "Teacher.add(MaxPooling2D(pool_size=2))\n",
        "Teacher.add(Flatten())\n",
        "Teacher.add(Dense(256, activation='relu'))\n",
        "Teacher.add(Dropout(0.5))\n",
        "Teacher.add(Dense(10))\n",
        "Teacher.add(Activation('softmax'))\n",
        "\n",
        "Teacher.compile(loss='sparse_categorical_crossentropy',\n",
        "             optimizer='adam',\n",
        "             metrics=['accuracy'])\n",
        "\n",
        "# Take a look at the model summary\n",
        "\n",
        "Teacher.summary()"
      ],
      "execution_count": 0,
      "outputs": [
        {
          "output_type": "stream",
          "text": [
            "WARNING: Logging before flag parsing goes to stderr.\n",
            "W0809 14:32:38.185163 139750472083328 deprecation.py:506] From /usr/local/lib/python3.6/dist-packages/tensorflow/python/ops/init_ops.py:1251: calling VarianceScaling.__init__ (from tensorflow.python.ops.init_ops) with dtype is deprecated and will be removed in a future version.\n",
            "Instructions for updating:\n",
            "Call initializer instance with the dtype argument instead of passing it to the constructor\n"
          ],
          "name": "stderr"
        },
        {
          "output_type": "stream",
          "text": [
            "Model: \"sequential\"\n",
            "_________________________________________________________________\n",
            "Layer (type)                 Output Shape              Param #   \n",
            "=================================================================\n",
            "conv2d (Conv2D)              (None, 32, 32, 32)        416       \n",
            "_________________________________________________________________\n",
            "max_pooling2d (MaxPooling2D) (None, 16, 16, 32)        0         \n",
            "_________________________________________________________________\n",
            "conv2d_1 (Conv2D)            (None, 16, 16, 64)        8256      \n",
            "_________________________________________________________________\n",
            "max_pooling2d_1 (MaxPooling2 (None, 8, 8, 64)          0         \n",
            "_________________________________________________________________\n",
            "flatten (Flatten)            (None, 4096)              0         \n",
            "_________________________________________________________________\n",
            "dense (Dense)                (None, 256)               1048832   \n",
            "_________________________________________________________________\n",
            "dropout (Dropout)            (None, 256)               0         \n",
            "_________________________________________________________________\n",
            "dense_1 (Dense)              (None, 10)                2570      \n",
            "_________________________________________________________________\n",
            "activation (Activation)      (None, 10)                0         \n",
            "=================================================================\n",
            "Total params: 1,060,074\n",
            "Trainable params: 1,060,074\n",
            "Non-trainable params: 0\n",
            "_________________________________________________________________\n"
          ],
          "name": "stdout"
        }
      ]
    },
    {
      "cell_type": "code",
      "metadata": {
        "id": "WEcS4uUpBD6Q",
        "colab_type": "code",
        "outputId": "5fdb3c87-789e-40e7-ac94-9608612ea211",
        "colab": {
          "base_uri": "https://localhost:8080/",
          "height": 746
        }
      },
      "source": [
        "myCP = ModelCheckpoint(save_best_only=True,filepath='teacher.h5',monitor = 'val_acc')\n",
        "Teacher.fit(x_train,\n",
        "         y_train,\n",
        "         batch_size=128,\n",
        "         epochs=20,\n",
        "         validation_split = 0.2,\n",
        "         callbacks=[myCP])"
      ],
      "execution_count": 0,
      "outputs": [
        {
          "output_type": "stream",
          "text": [
            "Train on 40000 samples, validate on 10000 samples\n",
            "Epoch 1/20\n",
            "40000/40000 [==============================] - 4s 112us/sample - loss: 1.6893 - acc: 0.3891 - val_loss: 1.3523 - val_acc: 0.5280\n",
            "Epoch 2/20\n",
            "40000/40000 [==============================] - 2s 60us/sample - loss: 1.3560 - acc: 0.5121 - val_loss: 1.2365 - val_acc: 0.5690\n",
            "Epoch 3/20\n",
            "40000/40000 [==============================] - 2s 60us/sample - loss: 1.2333 - acc: 0.5610 - val_loss: 1.0995 - val_acc: 0.6171\n",
            "Epoch 4/20\n",
            "40000/40000 [==============================] - 2s 59us/sample - loss: 1.1362 - acc: 0.5949 - val_loss: 1.1003 - val_acc: 0.6065\n",
            "Epoch 5/20\n",
            "40000/40000 [==============================] - 2s 59us/sample - loss: 1.0761 - acc: 0.6201 - val_loss: 1.0189 - val_acc: 0.6416\n",
            "Epoch 6/20\n",
            "40000/40000 [==============================] - 2s 59us/sample - loss: 1.0135 - acc: 0.6423 - val_loss: 0.9939 - val_acc: 0.6524\n",
            "Epoch 7/20\n",
            "40000/40000 [==============================] - 2s 59us/sample - loss: 0.9617 - acc: 0.6590 - val_loss: 0.9710 - val_acc: 0.6588\n",
            "Epoch 8/20\n",
            "40000/40000 [==============================] - 2s 59us/sample - loss: 0.9243 - acc: 0.6726 - val_loss: 0.9274 - val_acc: 0.6762\n",
            "Epoch 9/20\n",
            "40000/40000 [==============================] - 2s 58us/sample - loss: 0.8883 - acc: 0.6877 - val_loss: 0.9090 - val_acc: 0.6753\n",
            "Epoch 10/20\n",
            "40000/40000 [==============================] - 2s 59us/sample - loss: 0.8513 - acc: 0.6981 - val_loss: 0.9046 - val_acc: 0.6791\n",
            "Epoch 11/20\n",
            "40000/40000 [==============================] - 2s 58us/sample - loss: 0.8138 - acc: 0.7106 - val_loss: 0.9123 - val_acc: 0.6791\n",
            "Epoch 12/20\n",
            "40000/40000 [==============================] - 2s 59us/sample - loss: 0.7861 - acc: 0.7225 - val_loss: 0.8634 - val_acc: 0.6963\n",
            "Epoch 13/20\n",
            "40000/40000 [==============================] - 2s 59us/sample - loss: 0.7540 - acc: 0.7309 - val_loss: 0.8670 - val_acc: 0.7008\n",
            "Epoch 14/20\n",
            "40000/40000 [==============================] - 2s 59us/sample - loss: 0.7320 - acc: 0.7389 - val_loss: 0.8548 - val_acc: 0.7036\n",
            "Epoch 15/20\n",
            "40000/40000 [==============================] - 2s 59us/sample - loss: 0.6956 - acc: 0.7528 - val_loss: 0.8413 - val_acc: 0.7092\n",
            "Epoch 16/20\n",
            "40000/40000 [==============================] - 2s 59us/sample - loss: 0.6750 - acc: 0.7581 - val_loss: 0.8652 - val_acc: 0.7038\n",
            "Epoch 17/20\n",
            "40000/40000 [==============================] - 2s 58us/sample - loss: 0.6490 - acc: 0.7708 - val_loss: 0.8683 - val_acc: 0.7040\n",
            "Epoch 18/20\n",
            "40000/40000 [==============================] - 2s 58us/sample - loss: 0.6259 - acc: 0.7766 - val_loss: 0.8640 - val_acc: 0.7045\n",
            "Epoch 19/20\n",
            "40000/40000 [==============================] - 2s 59us/sample - loss: 0.5948 - acc: 0.7863 - val_loss: 0.8789 - val_acc: 0.7102\n",
            "Epoch 20/20\n",
            "40000/40000 [==============================] - 2s 59us/sample - loss: 0.5751 - acc: 0.7937 - val_loss: 0.8910 - val_acc: 0.6996\n"
          ],
          "name": "stdout"
        },
        {
          "output_type": "execute_result",
          "data": {
            "text/plain": [
              "<tensorflow.python.keras.callbacks.History at 0x7f1a0da32ac8>"
            ]
          },
          "metadata": {
            "tags": []
          },
          "execution_count": 4
        }
      ]
    },
    {
      "cell_type": "code",
      "metadata": {
        "id": "ivHJ880q7xhy",
        "colab_type": "code",
        "outputId": "f3c17df4-7e3b-44e7-c19e-dad60bc255bb",
        "colab": {
          "base_uri": "https://localhost:8080/",
          "height": 176
        }
      },
      "source": [
        "# Retrieve best model from saved\n",
        "Teacher = load_model('teacher.h5')\n",
        "\n",
        "# Evaluation with test set\n",
        "Teacher.evaluate(x_test,y_test)"
      ],
      "execution_count": 0,
      "outputs": [
        {
          "output_type": "stream",
          "text": [
            "W0809 14:33:28.917092 139750472083328 deprecation.py:506] From /usr/local/lib/python3.6/dist-packages/tensorflow/python/ops/init_ops.py:97: calling GlorotUniform.__init__ (from tensorflow.python.ops.init_ops) with dtype is deprecated and will be removed in a future version.\n",
            "Instructions for updating:\n",
            "Call initializer instance with the dtype argument instead of passing it to the constructor\n",
            "W0809 14:33:28.918682 139750472083328 deprecation.py:506] From /usr/local/lib/python3.6/dist-packages/tensorflow/python/ops/init_ops.py:97: calling Zeros.__init__ (from tensorflow.python.ops.init_ops) with dtype is deprecated and will be removed in a future version.\n",
            "Instructions for updating:\n",
            "Call initializer instance with the dtype argument instead of passing it to the constructor\n"
          ],
          "name": "stderr"
        },
        {
          "output_type": "stream",
          "text": [
            "10000/10000 [==============================] - 1s 66us/sample - loss: 0.8755 - acc: 0.7075\n"
          ],
          "name": "stdout"
        },
        {
          "output_type": "execute_result",
          "data": {
            "text/plain": [
              "[0.8754792424201965, 0.7075]"
            ]
          },
          "metadata": {
            "tags": []
          },
          "execution_count": 5
        }
      ]
    },
    {
      "cell_type": "markdown",
      "metadata": {
        "id": "ppnopnPM6DE1",
        "colab_type": "text"
      },
      "source": [
        "# Understand temperature"
      ]
    },
    {
      "cell_type": "code",
      "metadata": {
        "id": "IgGxH0YOBGLm",
        "colab_type": "code",
        "outputId": "58104de8-fe67-49e9-ef12-c2a5f76ad0a0",
        "colab": {
          "base_uri": "https://localhost:8080/",
          "height": 729
        }
      },
      "source": [
        "Teacher_logits = Model(Teacher.input,Teacher.layers[-2].output)\n",
        "\n",
        "logits_plot = []\n",
        "\n",
        "class_names = [\"airplane\",\"automobile\",\"bird\",\"cat\",\"deer\",\"dog\",\"frog\",\"horse\",\"ship\",\"truck\"]\t\t\t\t\t\t\t\t\t\t\n",
        "\n",
        "\n",
        "# Choose the item to visualize temperature\n",
        "item_idx = 7\n",
        "\n",
        "item_image = x_train[item_idx]\n",
        "\n",
        "plt.imshow(item_image)\n",
        "\n",
        "Temperatures = [1,5,10,20,35,50]\n",
        "\n",
        "\n",
        "for Temperature in Temperatures:\n",
        "  # Create temperature layer that produces logits with temperature\n",
        "  T_layer = Lambda(lambda x:x/Temperature)(Teacher_logits.output)\n",
        "  \n",
        "  # Create a softmax layer\n",
        "  Softmax_layer = Softmax()(T_layer)\n",
        "  # Add the teacher T_layer to the whole model\n",
        "  Teacher_logits_soften = Model(Teacher.input,Softmax_layer)\n",
        "                             \n",
        "  # Append for plotting\n",
        "  logits_plot.append(Teacher_logits_soften.predict(np.array([item_image])))\n",
        "  \n",
        "  plt.figure(figsize=(14, 6))\n",
        "for i in range(len(Temperatures)):\n",
        "  sns.lineplot(class_names,logits_plot[i][0],legend=\"full\")\n",
        "  plt.title('This is a '+ class_names[y_train[item_idx][0]])\n",
        "  plt.legend(Temperatures,title=\"Temperatures\")"
      ],
      "execution_count": 0,
      "outputs": [
        {
          "output_type": "display_data",
          "data": {
            "image/png": "[encoded data removed]",
            "text/plain": [
              "<Figure size 432x288 with 1 Axes>"
            ]
          },
          "metadata": {
            "tags": []
          }
        },
        {
          "output_type": "display_data",
          "data": {
            "text/plain": [
              "<Figure size 1008x432 with 0 Axes>"
            ]
          },
          "metadata": {
            "tags": []
          }
        },
        {
          "output_type": "display_data",
          "data": {
            "text/plain": [
              "<Figure size 1008x432 with 0 Axes>"
            ]
          },
          "metadata": {
            "tags": []
          }
        },
        {
          "output_type": "display_data",
          "data": {
            "text/plain": [
              "<Figure size 1008x432 with 0 Axes>"
            ]
          },
          "metadata": {
            "tags": []
          }
        },
        {
          "output_type": "display_data",
          "data": {
            "text/plain": [
              "<Figure size 1008x432 with 0 Axes>"
            ]
          },
          "metadata": {
            "tags": []
          }
        },
        {
          "output_type": "display_data",
          "data": {
            "text/plain": [
              "<Figure size 1008x432 with 0 Axes>"
            ]
          },
          "metadata": {
            "tags": []
          }
        },
        {
          "output_type": "display_data",
          "data": {
            "image/png": "[encoded data removed]",
            "text/plain": [
              "<Figure size 1008x432 with 1 Axes>"
            ]
          },
          "metadata": {
            "tags": []
          }
        }
      ]
    },
    {
      "cell_type": "markdown",
      "metadata": {
        "id": "VC7j3YBUWe_2",
        "colab_type": "text"
      },
      "source": [
        "# Create a teacher model that create softened output\n",
        "As mentioned in **Hinton's paper**:  \"When the distilled net had 300 or more units in each of its two hidden layers, all temperatures above gave fairly similar results. But when this was radically reduced to 30 units per layer, temperatures in the range 2.5 to 4 worked significantly better than high or lower temperatures.\"  \n",
        "In this notebook, I'll use temperature **3.25**, feel free to change to the Temperature to any number of your interest."
      ]
    },
    {
      "cell_type": "code",
      "metadata": {
        "id": "RG0cEG8GRZm0",
        "colab_type": "code",
        "colab": {}
      },
      "source": [
        "Temperature = 3.25\n",
        "T_layer = Lambda(lambda x:x/Temperature)(Teacher_logits.output)\n",
        "Softmax_layer = Activation('softmax')(T_layer)\n",
        "Teacher_soften = Model(Teacher.input,Softmax_layer)"
      ],
      "execution_count": 0,
      "outputs": []
    },
    {
      "cell_type": "code",
      "metadata": {
        "id": "5eS3Z8rBWY3a",
        "colab_type": "code",
        "colab": {}
      },
      "source": [
        "# Predict and convert to sparse categorical matrix\n",
        "y_train_new = Teacher_soften.predict(x_train)\n",
        "y_test_new = Teacher_soften.predict(x_test)\n",
        "\n",
        "y_train_new = np.c_[to_categorical(y_train),y_train_new]\n",
        "y_test_new = np.c_[to_categorical(y_test),y_test_new]"
      ],
      "execution_count": 0,
      "outputs": []
    },
    {
      "cell_type": "markdown",
      "metadata": {
        "id": "C0wHj1lobBaa",
        "colab_type": "text"
      },
      "source": [
        "# Create a student model that produces with and without soften output"
      ]
    },
    {
      "cell_type": "markdown",
      "metadata": {
        "id": "sgDCsYaxC0Zv",
        "colab_type": "text"
      },
      "source": [
        "The student model we'll in this notebook is a really shallow neural network with only 1 hidden layers with 64 units, followed by a 10 softmax unit for the output"
      ]
    },
    {
      "cell_type": "code",
      "metadata": {
        "id": "cCOh7PFP6fPV",
        "colab_type": "code",
        "outputId": "d10b2c8e-13e9-4f0d-9815-37c08bff6429",
        "colab": {
          "base_uri": "https://localhost:8080/",
          "height": 260
        }
      },
      "source": [
        "Student = Sequential() #a Must define the input shape in the first layer of the neural network\n",
        "Student.add(Flatten(input_shape=(32,32,3)))\n",
        "Student.add(Dense(64, activation='relu'))\n",
        "Student.add(Dense(10))\n",
        "Student.summary()"
      ],
      "execution_count": 0,
      "outputs": [
        {
          "output_type": "stream",
          "text": [
            "Model: \"sequential_5\"\n",
            "_________________________________________________________________\n",
            "Layer (type)                 Output Shape              Param #   \n",
            "=================================================================\n",
            "flatten_5 (Flatten)          (None, 3072)              0         \n",
            "_________________________________________________________________\n",
            "dense_10 (Dense)             (None, 64)                196672    \n",
            "_________________________________________________________________\n",
            "dense_11 (Dense)             (None, 10)                650       \n",
            "=================================================================\n",
            "Total params: 197,322\n",
            "Trainable params: 197,322\n",
            "Non-trainable params: 0\n",
            "_________________________________________________________________\n"
          ],
          "name": "stdout"
        }
      ]
    },
    {
      "cell_type": "code",
      "metadata": {
        "id": "2ic-g-z1ODuY",
        "colab_type": "code",
        "colab": {}
      },
      "source": [
        "student_logits = Student.layers[-1].output\n",
        "\n",
        "# Compute softmax\n",
        "probs = Activation(\"softmax\")(student_logits)\n",
        "\n",
        "# Compute softmax with softened logits\n",
        "logits_T = Lambda(lambda x:x/Temperature)(student_logits)\n",
        "probs_T = Activation(\"softmax\")(logits_T)\n",
        "\n",
        "CombinedLayers = concatenate([probs,probs_T])\n",
        "\n",
        "StudentModel = Model(Student.input,CombinedLayers)"
      ],
      "execution_count": 0,
      "outputs": []
    },
    {
      "cell_type": "markdown",
      "metadata": {
        "id": "Bs3G-pvGOOFE",
        "colab_type": "text"
      },
      "source": [
        "<center><img src=\"https://nervanasystems.github.io/distiller/imgs/knowledge_distillation.png\" width=500></center>\n",
        "<center> "
      ]
    },
    {
      "cell_type": "markdown",
      "metadata": {
        "id": "kpXESRefDGtb",
        "colab_type": "text"
      },
      "source": [
        "$$ \\text{Let } a_{t}  \\text{ and } a_{s} \\text{ be the logits (the inputs to the final softmax) of the teacher and student network, respectively, with the ground-truth label } y_{r} .\\text{ We calculate the cross-entropy between the softmax} (a_{s},y_{r}) \\text{ and } y_{r} \\text{ as follow:}$$\n",
        "$$ \\mathcal{L}_{SL}=\\mathcal{H}(\\text{softmax}(a_{s},y_{r})) $$\n",
        "\n",
        "$$ \\text{In knowledge distillation (in all 3 papers), we tries to match the softened outputs of the student } y_{s} = \\text{softmax}(a_{s}/\\mathcal{T})   \\text{ and teacher's softened outputs }  y_{t}=\\text{softmax}(a_{t}/\\mathcal{T}) \\text{via a KL-divergence loss}$$\n",
        "$$\\mathcal{L}_{KD}=\\mathcal{T}^2\\text{KL}(y_{s},y_{t})$$ \n",
        "$$ \\text{The student model will then be trained on a \"combined\" loss between } \\mathcal{L}_{SL} \\text{ and } \\mathcal{L}_{KD} \\text{ with } \\lambda \\text{ representing the trade off of 2 losses }$$\n",
        "$$\\mathcal{L}_{\\text{student}} = \\lambda\\mathcal{L}_{SL} + (1-\\lambda)\\mathcal{L}_{KD}$$"
      ]
    },
    {
      "cell_type": "code",
      "metadata": {
        "id": "n2-QsDZ5jtA8",
        "colab_type": "code",
        "colab": {}
      },
      "source": [
        "def KD_loss(y_true,y_pred,lambd=0.5,T=10.0):\n",
        "  y_true,y_true_KD = y_true[:,:NUM_CLASSES],y_true[:,NUM_CLASSES:]\n",
        "  y_pred,y_pred_KD = y_pred[:,:NUM_CLASSES],y_pred[:,NUM_CLASSES:]\n",
        "  # Classic cross-entropy (without temperature)\n",
        "  CE_loss = logloss(y_true,y_pred)\n",
        "  # KL-Divergence loss for softened output (with temperature)\n",
        "  KL_loss = T**2*KLD_Loss(y_true_KD,y_pred_KD)\n",
        "  \n",
        "  return lambd*CE_loss + (1-lambd)*KL_loss\n",
        "\n",
        "def accuracy(y_true,y_pred):\n",
        "  return categorical_accuracy(y_true,y_pred)\n",
        "  "
      ],
      "execution_count": 0,
      "outputs": []
    },
    {
      "cell_type": "code",
      "metadata": {
        "id": "0pbswIyRhYUG",
        "colab_type": "code",
        "colab": {}
      },
      "source": [
        "StudentModel.compile(optimizer='adam',loss=lambda y_true,y_pred: KD_loss(y_true, y_pred,lambd=0.5,T=Temperature),metrics=[accuracy])"
      ],
      "execution_count": 0,
      "outputs": []
    },
    {
      "cell_type": "code",
      "metadata": {
        "id": "am0Ufoz6jc3-",
        "colab_type": "code",
        "outputId": "11ed429d-11db-4e79-a12e-99a9510dbb91",
        "colab": {
          "base_uri": "https://localhost:8080/",
          "height": 1000
        }
      },
      "source": [
        "myCP = ModelCheckpoint(save_best_only=True,filepath='student.h5',monitor = 'val_accuracy')\n",
        "\n",
        "StudentModel.fit(x_train,y_train_new,epochs=50,validation_split=0.15,batch_size=128,callbacks=[myCP])"
      ],
      "execution_count": 0,
      "outputs": [
        {
          "output_type": "stream",
          "text": [
            "Train on 42500 samples, validate on 7500 samples\n",
            "Epoch 1/50\n",
            "42500/42500 [==============================] - 3s 60us/sample - loss: 3.7140 - accuracy: 0.3105 - val_loss: 3.2836 - val_accuracy: 0.3513\n",
            "Epoch 2/50\n",
            "42500/42500 [==============================] - 2s 44us/sample - loss: 3.2945 - accuracy: 0.3738 - val_loss: 3.1989 - val_accuracy: 0.3471\n",
            "Epoch 3/50\n",
            "42500/42500 [==============================] - 2s 43us/sample - loss: 3.1572 - accuracy: 0.3867 - val_loss: 3.0909 - val_accuracy: 0.3820\n",
            "Epoch 4/50\n",
            "42500/42500 [==============================] - 2s 42us/sample - loss: 3.0415 - accuracy: 0.4030 - val_loss: 3.3710 - val_accuracy: 0.3577\n",
            "Epoch 5/50\n",
            "42500/42500 [==============================] - 2s 44us/sample - loss: 2.9621 - accuracy: 0.4102 - val_loss: 3.0683 - val_accuracy: 0.3695\n",
            "Epoch 6/50\n",
            "42500/42500 [==============================] - 2s 44us/sample - loss: 2.8845 - accuracy: 0.4166 - val_loss: 2.8167 - val_accuracy: 0.4116\n",
            "Epoch 7/50\n",
            "42500/42500 [==============================] - 2s 43us/sample - loss: 2.7905 - accuracy: 0.4280 - val_loss: 3.2658 - val_accuracy: 0.3464\n",
            "Epoch 8/50\n",
            "42500/42500 [==============================] - 2s 42us/sample - loss: 2.8092 - accuracy: 0.4230 - val_loss: 2.8306 - val_accuracy: 0.4009\n",
            "Epoch 9/50\n",
            "42500/42500 [==============================] - 2s 42us/sample - loss: 2.7244 - accuracy: 0.4365 - val_loss: 2.7771 - val_accuracy: 0.4063\n",
            "Epoch 10/50\n",
            "42500/42500 [==============================] - 2s 42us/sample - loss: 2.6815 - accuracy: 0.4416 - val_loss: 2.6925 - val_accuracy: 0.4255\n",
            "Epoch 11/50\n",
            "42500/42500 [==============================] - 2s 43us/sample - loss: 2.6444 - accuracy: 0.4460 - val_loss: 2.7171 - val_accuracy: 0.4116\n",
            "Epoch 12/50\n",
            "42500/42500 [==============================] - 2s 43us/sample - loss: 2.6298 - accuracy: 0.4464 - val_loss: 2.7660 - val_accuracy: 0.4127\n",
            "Epoch 13/50\n",
            "42500/42500 [==============================] - 2s 42us/sample - loss: 2.5935 - accuracy: 0.4519 - val_loss: 2.6507 - val_accuracy: 0.4235\n",
            "Epoch 14/50\n",
            "42500/42500 [==============================] - 2s 42us/sample - loss: 2.5858 - accuracy: 0.4544 - val_loss: 2.6539 - val_accuracy: 0.4239\n",
            "Epoch 15/50\n",
            "42500/42500 [==============================] - 2s 43us/sample - loss: 2.5647 - accuracy: 0.4545 - val_loss: 2.5736 - val_accuracy: 0.4307\n",
            "Epoch 16/50\n",
            "42500/42500 [==============================] - 2s 43us/sample - loss: 2.5307 - accuracy: 0.4604 - val_loss: 2.9367 - val_accuracy: 0.3903\n",
            "Epoch 17/50\n",
            "42500/42500 [==============================] - 2s 43us/sample - loss: 2.5486 - accuracy: 0.4581 - val_loss: 2.5169 - val_accuracy: 0.4421\n",
            "Epoch 18/50\n",
            "42500/42500 [==============================] - 2s 43us/sample - loss: 2.5094 - accuracy: 0.4636 - val_loss: 2.7981 - val_accuracy: 0.4024\n",
            "Epoch 19/50\n",
            "42500/42500 [==============================] - 2s 42us/sample - loss: 2.5171 - accuracy: 0.4628 - val_loss: 2.6668 - val_accuracy: 0.4217\n",
            "Epoch 20/50\n",
            "42500/42500 [==============================] - 2s 42us/sample - loss: 2.5102 - accuracy: 0.4643 - val_loss: 2.6968 - val_accuracy: 0.4331\n",
            "Epoch 21/50\n",
            "42500/42500 [==============================] - 2s 43us/sample - loss: 2.4748 - accuracy: 0.4695 - val_loss: 2.4857 - val_accuracy: 0.4523\n",
            "Epoch 22/50\n",
            "42500/42500 [==============================] - 2s 42us/sample - loss: 2.4607 - accuracy: 0.4705 - val_loss: 2.6590 - val_accuracy: 0.4215\n",
            "Epoch 23/50\n",
            "42500/42500 [==============================] - 2s 42us/sample - loss: 2.4755 - accuracy: 0.4678 - val_loss: 2.4940 - val_accuracy: 0.4481\n",
            "Epoch 24/50\n",
            "42500/42500 [==============================] - 2s 43us/sample - loss: 2.4382 - accuracy: 0.4712 - val_loss: 2.6369 - val_accuracy: 0.4236\n",
            "Epoch 25/50\n",
            "42500/42500 [==============================] - 2s 43us/sample - loss: 2.4490 - accuracy: 0.4707 - val_loss: 2.4935 - val_accuracy: 0.4505\n",
            "Epoch 26/50\n",
            "42500/42500 [==============================] - 2s 42us/sample - loss: 2.4230 - accuracy: 0.4724 - val_loss: 2.6235 - val_accuracy: 0.4256\n",
            "Epoch 27/50\n",
            "42500/42500 [==============================] - 2s 42us/sample - loss: 2.4142 - accuracy: 0.4762 - val_loss: 2.5793 - val_accuracy: 0.4359\n",
            "Epoch 28/50\n",
            "42500/42500 [==============================] - 2s 43us/sample - loss: 2.4222 - accuracy: 0.4740 - val_loss: 2.5541 - val_accuracy: 0.4379\n",
            "Epoch 29/50\n",
            "42500/42500 [==============================] - 2s 43us/sample - loss: 2.4126 - accuracy: 0.4740 - val_loss: 2.4779 - val_accuracy: 0.4580\n",
            "Epoch 30/50\n",
            "42500/42500 [==============================] - 2s 43us/sample - loss: 2.3876 - accuracy: 0.4793 - val_loss: 2.5100 - val_accuracy: 0.4483\n",
            "Epoch 31/50\n",
            "42500/42500 [==============================] - 2s 43us/sample - loss: 2.3927 - accuracy: 0.4787 - val_loss: 2.8003 - val_accuracy: 0.4123\n",
            "Epoch 32/50\n",
            "42500/42500 [==============================] - 2s 42us/sample - loss: 2.3916 - accuracy: 0.4790 - val_loss: 2.5754 - val_accuracy: 0.4219\n",
            "Epoch 33/50\n",
            "42500/42500 [==============================] - 2s 43us/sample - loss: 2.3742 - accuracy: 0.4811 - val_loss: 2.5109 - val_accuracy: 0.4399\n",
            "Epoch 34/50\n",
            "42500/42500 [==============================] - 2s 43us/sample - loss: 2.3760 - accuracy: 0.4803 - val_loss: 2.7033 - val_accuracy: 0.4223\n",
            "Epoch 35/50\n",
            "42500/42500 [==============================] - 2s 43us/sample - loss: 2.3707 - accuracy: 0.4814 - val_loss: 2.4971 - val_accuracy: 0.4500\n",
            "Epoch 36/50\n",
            "42500/42500 [==============================] - 2s 43us/sample - loss: 2.3497 - accuracy: 0.4840 - val_loss: 2.5929 - val_accuracy: 0.4324\n",
            "Epoch 37/50\n",
            "42500/42500 [==============================] - 2s 42us/sample - loss: 2.3456 - accuracy: 0.4816 - val_loss: 2.7595 - val_accuracy: 0.4384\n",
            "Epoch 38/50\n",
            "42500/42500 [==============================] - 2s 42us/sample - loss: 2.3646 - accuracy: 0.4814 - val_loss: 2.5590 - val_accuracy: 0.4269\n",
            "Epoch 39/50\n",
            "42500/42500 [==============================] - 2s 42us/sample - loss: 2.3490 - accuracy: 0.4832 - val_loss: 2.4646 - val_accuracy: 0.4485\n",
            "Epoch 40/50\n",
            "42500/42500 [==============================] - 2s 42us/sample - loss: 2.3334 - accuracy: 0.4850 - val_loss: 2.4714 - val_accuracy: 0.4476\n",
            "Epoch 41/50\n",
            "42500/42500 [==============================] - 2s 43us/sample - loss: 2.3326 - accuracy: 0.4846 - val_loss: 2.5795 - val_accuracy: 0.4444\n",
            "Epoch 42/50\n",
            "42500/42500 [==============================] - 2s 43us/sample - loss: 2.3318 - accuracy: 0.4873 - val_loss: 2.6374 - val_accuracy: 0.4331\n",
            "Epoch 43/50\n",
            "42500/42500 [==============================] - 2s 44us/sample - loss: 2.3180 - accuracy: 0.4895 - val_loss: 2.4602 - val_accuracy: 0.4589\n",
            "Epoch 44/50\n",
            "42500/42500 [==============================] - 2s 43us/sample - loss: 2.3154 - accuracy: 0.4884 - val_loss: 2.4701 - val_accuracy: 0.4433\n",
            "Epoch 45/50\n",
            "42500/42500 [==============================] - 2s 43us/sample - loss: 2.3238 - accuracy: 0.4858 - val_loss: 2.4439 - val_accuracy: 0.4463\n",
            "Epoch 46/50\n",
            "42500/42500 [==============================] - 2s 43us/sample - loss: 2.3165 - accuracy: 0.4868 - val_loss: 2.4843 - val_accuracy: 0.4427\n",
            "Epoch 47/50\n",
            "42500/42500 [==============================] - 2s 42us/sample - loss: 2.2992 - accuracy: 0.4876 - val_loss: 2.4383 - val_accuracy: 0.4544\n",
            "Epoch 48/50\n",
            "42500/42500 [==============================] - 2s 42us/sample - loss: 2.3092 - accuracy: 0.4912 - val_loss: 2.4675 - val_accuracy: 0.4521\n",
            "Epoch 49/50\n",
            "42500/42500 [==============================] - 2s 42us/sample - loss: 2.2938 - accuracy: 0.4907 - val_loss: 2.5032 - val_accuracy: 0.4436\n",
            "Epoch 50/50\n",
            "42500/42500 [==============================] - 2s 42us/sample - loss: 2.2932 - accuracy: 0.4902 - val_loss: 2.4657 - val_accuracy: 0.4508\n"
          ],
          "name": "stdout"
        },
        {
          "output_type": "execute_result",
          "data": {
            "text/plain": [
              "<tensorflow.python.keras.callbacks.History at 0x7f194f1e3c18>"
            ]
          },
          "metadata": {
            "tags": []
          },
          "execution_count": 42
        }
      ]
    },
    {
      "cell_type": "code",
      "metadata": {
        "id": "-QujVzs7rRxN",
        "colab_type": "code",
        "outputId": "f6fd2c26-101c-4e18-9e16-73af89d0a024",
        "colab": {
          "base_uri": "https://localhost:8080/",
          "height": 52
        }
      },
      "source": [
        "StudentModel.load_weights('student.h5')\n",
        "StudentModel.evaluate(x_train,y_train_new)\n"
      ],
      "execution_count": 0,
      "outputs": [
        {
          "output_type": "stream",
          "text": [
            "50000/50000 [==============================] - 3s 64us/sample - loss: 2.3504 - accuracy: 0.4861\n"
          ],
          "name": "stdout"
        },
        {
          "output_type": "execute_result",
          "data": {
            "text/plain": [
              "[2.3504372370910644, 0.4861]"
            ]
          },
          "metadata": {
            "tags": []
          },
          "execution_count": 43
        }
      ]
    },
    {
      "cell_type": "markdown",
      "metadata": {
        "id": "1k5LsqTWzh56",
        "colab_type": "text"
      },
      "source": [
        "# Create a standalone student"
      ]
    },
    {
      "cell_type": "code",
      "metadata": {
        "id": "vfInFTnqr6Yg",
        "colab_type": "code",
        "outputId": "0871bbcb-d3e7-4946-bee7-acfe901c7648",
        "colab": {
          "base_uri": "https://localhost:8080/",
          "height": 260
        }
      },
      "source": [
        "AloneModel = Sequential() #a Must define the input shape in the first layer of the neural netAloneStudent = Sequential() #a Must define the input shape in the first layer of the neural network\n",
        "AloneModel.add(Flatten(input_shape=(32,32,3)))\n",
        "AloneModel.add(Dense(64, activation='relu'))\n",
        "AloneModel.add(Dense(10,activation=\"softmax\"))\n",
        "AloneModel.summary()"
      ],
      "execution_count": 0,
      "outputs": [
        {
          "output_type": "stream",
          "text": [
            "Model: \"sequential_6\"\n",
            "_________________________________________________________________\n",
            "Layer (type)                 Output Shape              Param #   \n",
            "=================================================================\n",
            "flatten_6 (Flatten)          (None, 3072)              0         \n",
            "_________________________________________________________________\n",
            "dense_12 (Dense)             (None, 64)                196672    \n",
            "_________________________________________________________________\n",
            "dense_13 (Dense)             (None, 10)                650       \n",
            "=================================================================\n",
            "Total params: 197,322\n",
            "Trainable params: 197,322\n",
            "Non-trainable params: 0\n",
            "_________________________________________________________________\n"
          ],
          "name": "stdout"
        }
      ]
    },
    {
      "cell_type": "code",
      "metadata": {
        "id": "N9rxNJ9AzkVj",
        "colab_type": "code",
        "outputId": "ade89b2c-cb7a-4a39-c9f4-715b4329cb87",
        "colab": {
          "base_uri": "https://localhost:8080/",
          "height": 1000
        }
      },
      "source": [
        "AloneModel.compile(optimizer='adam',loss='sparse_categorical_crossentropy',metrics=['accuracy'])\n",
        "\n",
        "myCP = ModelCheckpoint(_best_only=True,filepath='alone.h5',monitor = 'val_acc')\n",
        "\n",
        "AloneModel.fit(x_train,y_train,epochs=50,validation_split=0.15,batch_size=128,callbacks=[myCP])\n"
      ],
      "execution_count": 0,
      "outputs": [
        {
          "output_type": "stream",
          "text": [
            "Train on 42500 samples, validate on 7500 samples\n",
            "Epoch 1/50\n",
            "42500/42500 [==============================] - 2s 52us/sample - loss: 2.0431 - acc: 0.2463 - val_loss: 1.9507 - val_acc: 0.2873\n",
            "Epoch 2/50\n",
            "42500/42500 [==============================] - 1s 34us/sample - loss: 1.8805 - acc: 0.3196 - val_loss: 1.9021 - val_acc: 0.3144\n",
            "Epoch 3/50\n",
            "42500/42500 [==============================] - 1s 34us/sample - loss: 1.8343 - acc: 0.3402 - val_loss: 1.8557 - val_acc: 0.3289\n",
            "Epoch 4/50\n",
            "42500/42500 [==============================] - 1s 34us/sample - loss: 1.8064 - acc: 0.3496 - val_loss: 1.8348 - val_acc: 0.3376\n",
            "Epoch 5/50\n",
            "42500/42500 [==============================] - 1s 35us/sample - loss: 1.7856 - acc: 0.3571 - val_loss: 1.8426 - val_acc: 0.3353\n",
            "Epoch 6/50\n",
            "42500/42500 [==============================] - 1s 33us/sample - loss: 1.7756 - acc: 0.3619 - val_loss: 1.8208 - val_acc: 0.3356\n",
            "Epoch 7/50\n",
            "42500/42500 [==============================] - 1s 33us/sample - loss: 1.7637 - acc: 0.3663 - val_loss: 1.8080 - val_acc: 0.3509\n",
            "Epoch 8/50\n",
            "42500/42500 [==============================] - 1s 33us/sample - loss: 1.7516 - acc: 0.3723 - val_loss: 1.7973 - val_acc: 0.3532\n",
            "Epoch 9/50\n",
            "42500/42500 [==============================] - 1s 33us/sample - loss: 1.7472 - acc: 0.3756 - val_loss: 1.8044 - val_acc: 0.3535\n",
            "Epoch 10/50\n",
            "42500/42500 [==============================] - 1s 34us/sample - loss: 1.7410 - acc: 0.3787 - val_loss: 1.7833 - val_acc: 0.3597\n",
            "Epoch 11/50\n",
            "42500/42500 [==============================] - 1s 33us/sample - loss: 1.7312 - acc: 0.3825 - val_loss: 1.7926 - val_acc: 0.3563\n",
            "Epoch 12/50\n",
            "42500/42500 [==============================] - 1s 34us/sample - loss: 1.7306 - acc: 0.3851 - val_loss: 1.7787 - val_acc: 0.3624\n",
            "Epoch 13/50\n",
            "42500/42500 [==============================] - 1s 34us/sample - loss: 1.7238 - acc: 0.3859 - val_loss: 1.7630 - val_acc: 0.3735\n",
            "Epoch 14/50\n",
            "42500/42500 [==============================] - 1s 33us/sample - loss: 1.7201 - acc: 0.3864 - val_loss: 1.7799 - val_acc: 0.3568\n",
            "Epoch 15/50\n",
            "42500/42500 [==============================] - 1s 34us/sample - loss: 1.7190 - acc: 0.3861 - val_loss: 1.7817 - val_acc: 0.3676\n",
            "Epoch 16/50\n",
            "42500/42500 [==============================] - 1s 34us/sample - loss: 1.7170 - acc: 0.3862 - val_loss: 1.7568 - val_acc: 0.3709\n",
            "Epoch 17/50\n",
            "42500/42500 [==============================] - 1s 33us/sample - loss: 1.7112 - acc: 0.3870 - val_loss: 1.8002 - val_acc: 0.3616\n",
            "Epoch 18/50\n",
            "42500/42500 [==============================] - 1s 33us/sample - loss: 1.7094 - acc: 0.3871 - val_loss: 1.7986 - val_acc: 0.3584\n",
            "Epoch 19/50\n",
            "42500/42500 [==============================] - 1s 33us/sample - loss: 1.6979 - acc: 0.3937 - val_loss: 1.7436 - val_acc: 0.3721\n",
            "Epoch 20/50\n",
            "42500/42500 [==============================] - 1s 34us/sample - loss: 1.6918 - acc: 0.3941 - val_loss: 1.7915 - val_acc: 0.3605\n",
            "Epoch 21/50\n",
            "42500/42500 [==============================] - 1s 34us/sample - loss: 1.6883 - acc: 0.3942 - val_loss: 1.7701 - val_acc: 0.3733\n",
            "Epoch 22/50\n",
            "42500/42500 [==============================] - 1s 34us/sample - loss: 1.6829 - acc: 0.3968 - val_loss: 1.7264 - val_acc: 0.3803\n",
            "Epoch 23/50\n",
            "42500/42500 [==============================] - 1s 34us/sample - loss: 1.6792 - acc: 0.3965 - val_loss: 1.7635 - val_acc: 0.3691\n",
            "Epoch 24/50\n",
            "42500/42500 [==============================] - 1s 34us/sample - loss: 1.6798 - acc: 0.3956 - val_loss: 1.8555 - val_acc: 0.3349\n",
            "Epoch 25/50\n",
            "42500/42500 [==============================] - 1s 34us/sample - loss: 1.6823 - acc: 0.3966 - val_loss: 1.8043 - val_acc: 0.3607\n",
            "Epoch 26/50\n",
            "42500/42500 [==============================] - 1s 33us/sample - loss: 1.6770 - acc: 0.3979 - val_loss: 1.7220 - val_acc: 0.3836\n",
            "Epoch 27/50\n",
            "42500/42500 [==============================] - 1s 34us/sample - loss: 1.6743 - acc: 0.3976 - val_loss: 1.7976 - val_acc: 0.3645\n",
            "Epoch 28/50\n",
            "42500/42500 [==============================] - 1s 34us/sample - loss: 1.6698 - acc: 0.3988 - val_loss: 1.8179 - val_acc: 0.3485\n",
            "Epoch 29/50\n",
            "42500/42500 [==============================] - 1s 33us/sample - loss: 1.6746 - acc: 0.3990 - val_loss: 1.7522 - val_acc: 0.3716\n",
            "Epoch 30/50\n",
            "42500/42500 [==============================] - 1s 33us/sample - loss: 1.6651 - acc: 0.4006 - val_loss: 1.7548 - val_acc: 0.3677\n",
            "Epoch 31/50\n",
            "42500/42500 [==============================] - 1s 33us/sample - loss: 1.6635 - acc: 0.4024 - val_loss: 1.7113 - val_acc: 0.3860\n",
            "Epoch 32/50\n",
            "42500/42500 [==============================] - 1s 34us/sample - loss: 1.6613 - acc: 0.3998 - val_loss: 1.7345 - val_acc: 0.3788\n",
            "Epoch 33/50\n",
            "42500/42500 [==============================] - 1s 33us/sample - loss: 1.6597 - acc: 0.4031 - val_loss: 1.7426 - val_acc: 0.3795\n",
            "Epoch 34/50\n",
            "42500/42500 [==============================] - 1s 33us/sample - loss: 1.6580 - acc: 0.4058 - val_loss: 1.7356 - val_acc: 0.3823\n",
            "Epoch 35/50\n",
            "42500/42500 [==============================] - 1s 33us/sample - loss: 1.6550 - acc: 0.4043 - val_loss: 1.7134 - val_acc: 0.3867\n",
            "Epoch 36/50\n",
            "42500/42500 [==============================] - 1s 34us/sample - loss: 1.6578 - acc: 0.4053 - val_loss: 1.7192 - val_acc: 0.3809\n",
            "Epoch 37/50\n",
            "42500/42500 [==============================] - 1s 33us/sample - loss: 1.6550 - acc: 0.4052 - val_loss: 1.9328 - val_acc: 0.3287\n",
            "Epoch 38/50\n",
            "42500/42500 [==============================] - 1s 33us/sample - loss: 1.6604 - acc: 0.4012 - val_loss: 1.7676 - val_acc: 0.3791\n",
            "Epoch 39/50\n",
            "42500/42500 [==============================] - 1s 33us/sample - loss: 1.6515 - acc: 0.4052 - val_loss: 1.7316 - val_acc: 0.3755\n",
            "Epoch 40/50\n",
            "42500/42500 [==============================] - 1s 33us/sample - loss: 1.6510 - acc: 0.4057 - val_loss: 1.7286 - val_acc: 0.3839\n",
            "Epoch 41/50\n",
            "42500/42500 [==============================] - 1s 34us/sample - loss: 1.6482 - acc: 0.4075 - val_loss: 1.7213 - val_acc: 0.3777\n",
            "Epoch 42/50\n",
            "42500/42500 [==============================] - 1s 33us/sample - loss: 1.6445 - acc: 0.4069 - val_loss: 1.7184 - val_acc: 0.3831\n",
            "Epoch 43/50\n",
            "42500/42500 [==============================] - 1s 33us/sample - loss: 1.6459 - acc: 0.4080 - val_loss: 1.7021 - val_acc: 0.3923\n",
            "Epoch 44/50\n",
            "42500/42500 [==============================] - 1s 33us/sample - loss: 1.6477 - acc: 0.4076 - val_loss: 1.7214 - val_acc: 0.3856\n",
            "Epoch 45/50\n",
            "42500/42500 [==============================] - 1s 33us/sample - loss: 1.6452 - acc: 0.4076 - val_loss: 1.7032 - val_acc: 0.3889\n",
            "Epoch 46/50\n",
            "42500/42500 [==============================] - 1s 33us/sample - loss: 1.6442 - acc: 0.4077 - val_loss: 1.7519 - val_acc: 0.3761\n",
            "Epoch 47/50\n",
            "42500/42500 [==============================] - 1s 34us/sample - loss: 1.6410 - acc: 0.4113 - val_loss: 1.7117 - val_acc: 0.3800\n",
            "Epoch 48/50\n",
            "42500/42500 [==============================] - 1s 34us/sample - loss: 1.6419 - acc: 0.4088 - val_loss: 1.7050 - val_acc: 0.3877\n",
            "Epoch 49/50\n",
            "42500/42500 [==============================] - 1s 34us/sample - loss: 1.6402 - acc: 0.4084 - val_loss: 1.7063 - val_acc: 0.3841\n",
            "Epoch 50/50\n",
            "42500/42500 [==============================] - 1s 34us/sample - loss: 1.6370 - acc: 0.4110 - val_loss: 1.7126 - val_acc: 0.3867\n"
          ],
          "name": "stdout"
        },
        {
          "output_type": "execute_result",
          "data": {
            "text/plain": [
              "<tensorflow.python.keras.callbacks.History at 0x7f194edf6c50>"
            ]
          },
          "metadata": {
            "tags": []
          },
          "execution_count": 45
        }
      ]
    },
    {
      "cell_type": "code",
      "metadata": {
        "id": "14Fju4pe0Ln2",
        "colab_type": "code",
        "outputId": "d96423bb-7c7f-4dd6-ad0d-22f5480eda7a",
        "colab": {
          "base_uri": "https://localhost:8080/",
          "height": 52
        }
      },
      "source": [
        "AloneModel = load_model(\"alone.h5\")\n",
        "AloneModel.evaluate(x_test,y_test)"
      ],
      "execution_count": 0,
      "outputs": [
        {
          "output_type": "stream",
          "text": [
            "10000/10000 [==============================] - 1s 66us/sample - loss: 1.6973 - acc: 0.3934\n"
          ],
          "name": "stdout"
        },
        {
          "output_type": "execute_result",
          "data": {
            "text/plain": [
              "[1.6973005071640015, 0.3934]"
            ]
          },
          "metadata": {
            "tags": []
          },
          "execution_count": 46
        }
      ]
    },
    {
      "cell_type": "code",
      "metadata": {
        "id": "P91kVQ-ORtzh",
        "colab_type": "code",
        "colab": {}
      },
      "source": [
        ""
      ],
      "execution_count": 0,
      "outputs": []
    },
    {
      "cell_type": "markdown",
      "metadata": {
        "id": "EW1IbWlkRvQv",
        "colab_type": "text"
      },
      "source": [
        "# References\n",
        "[Nervanasystem github's\n",
        "](https://nervanasystems.github.io/distiller/knowledge_distillation.html)\n",
        "\n",
        "[Hinton et. al. - \n",
        "Distilling the Knowledge in a Neural Network](https://arxiv.org/abs/1503.02531)\n",
        "\n",
        "[Seyed-Iman Mirzadeh et. al. - Improved Knowledge Distillation via Teacher Assistant:Bridging the Gap Between Student and Teacher](https://arxiv.org/abs/1902.03393)"
      ]
    },
    {
      "cell_type": "code",
      "metadata": {
        "id": "uDQb_wAfRwat",
        "colab_type": "code",
        "colab": {}
      },
      "source": [
        ""
      ],
      "execution_count": 0,
      "outputs": []
    }
  ]
}