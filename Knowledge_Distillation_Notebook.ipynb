{
  "nbformat": 4,
  "nbformat_minor": 0,
  "metadata": {
    "colab": {
      "name": "Knowledge-Distillation-Notebook",
      "version": "0.3.2",
      "provenance": [],
      "include_colab_link": true
    },
    "kernelspec": {
      "name": "python3",
      "display_name": "Python 3"
    },
    "accelerator": "GPU"
  },
  "cells": [
    {
      "cell_type": "markdown",
      "metadata": {
        "id": "view-in-github",
        "colab_type": "text"
      },
      "source": [
        "<a href=\"https://colab.research.google.com/github/patrickphatnguyen/Knowledge-Distillation-CNN/blob/master/Knowledge_Distillation_Notebook.ipynb\" target=\"_parent\"><img src=\"https://colab.research.google.com/assets/colab-badge.svg\" alt=\"Open In Colab\"/></a>"
      ]
    },
    {
      "cell_type": "markdown",
      "metadata": {
        "id": "ce65yuvootlq",
        "colab_type": "text"
      },
      "source": [
        "# Install and import requirements\n"
      ]
    },
    {
      "cell_type": "code",
      "metadata": {
        "id": "xWnbC2ooAfNf",
        "colab_type": "code",
        "colab": {}
      },
      "source": [
        "import tensorflow as tf\n",
        "import numpy as np\n",
        "import matplotlib.pyplot as plt# Load the fashion-mnist pre-shuffled train data and test data\n",
        "from tensorflow.keras.models import Sequential, load_model, Model\n",
        "from tensorflow.keras.layers import Conv2D,GlobalAveragePooling2D,Dense,Softmax,Flatten,MaxPooling2D,Dropout,Activation, Lambda, concatenate\n",
        "from tensorflow.keras.callbacks import ModelCheckpoint\n",
        "from tensorflow.keras.losses import kullback_leibler_divergence as KLD_Loss, categorical_crossentropy as logloss\n",
        "from tensorflow.keras.utils import to_categorical\n",
        "from tensorflow.keras.metrics import categorical_accuracy\n",
        "import seaborn as sns"
      ],
      "execution_count": 0,
      "outputs": []
    },
    {
      "cell_type": "markdown",
      "metadata": {
        "id": "2wQvkPoB7Cnr",
        "colab_type": "text"
      },
      "source": [
        "#  Load and preprocess the data"
      ]
    },
    {
      "cell_type": "code",
      "metadata": {
        "id": "N4nKTacmAjXh",
        "colab_type": "code",
        "outputId": "60eec6b7-5528-4769-d4ff-ee0f16066cb8",
        "colab": {
          "base_uri": "https://localhost:8080/",
          "height": 34
        }
      },
      "source": [
        "NUM_CLASSES = 10\n",
        "(x_train, y_train), (x_test, y_test) = tf.keras.datasets.cifar10.load_data()\n",
        "print(\"x_train shape:\", x_train.shape, \"y_train shape:\", y_train.shape)\n",
        "\n",
        "# Normalize the dataset\n",
        "x_train = x_train.astype('float32') / 255\n",
        "x_test = x_test.astype('float32') / 255\n",
        "\n",
        "# Reshape each example to WIDTH*HEIGHT*CHANNELS for Convolution operation\n",
        "# x_test = x_test.reshape(-1,,28,1)\n",
        "# x_train = x_train.reshape(-1,28,28,1)\n"
      ],
      "execution_count": 4,
      "outputs": [
        {
          "output_type": "stream",
          "text": [
            "x_train shape: (50000, 32, 32, 3) y_train shape: (50000, 1)\n"
          ],
          "name": "stdout"
        }
      ]
    },
    {
      "cell_type": "markdown",
      "metadata": {
        "id": "rYDhVMdU7dWN",
        "colab_type": "text"
      },
      "source": [
        "# Create teacher model"
      ]
    },
    {
      "cell_type": "code",
      "metadata": {
        "id": "B_EpiY-nA8u6",
        "colab_type": "code",
        "outputId": "e9281b97-8ec5-41f2-9e83-4facd38df063",
        "colab": {
          "base_uri": "https://localhost:8080/",
          "height": 558
        }
      },
      "source": [
        "Teacher = Sequential() # Must define the input shape in the first layer of the neural network\n",
        "Teacher.add(Conv2D(filters=32, kernel_size=2, padding='same', activation='relu', input_shape=(32,32,3)))\n",
        "Teacher.add(MaxPooling2D(pool_size=2))\n",
        "Teacher.add(Conv2D(filters=64, kernel_size=2, padding='same', activation='relu'))\n",
        "Teacher.add(MaxPooling2D(pool_size=2))\n",
        "Teacher.add(Flatten())\n",
        "Teacher.add(Dense(256, activation='relu'))\n",
        "Teacher.add(Dropout(0.5))\n",
        "Teacher.add(Dense(10))\n",
        "Teacher.add(Activation('softmax'))\n",
        "\n",
        "Teacher.compile(loss='sparse_categorical_crossentropy',\n",
        "             optimizer='adam',\n",
        "             metrics=['accuracy'])\n",
        "\n",
        "# Take a look at the model summary\n",
        "\n",
        "Teacher.summary()"
      ],
      "execution_count": 5,
      "outputs": [
        {
          "output_type": "stream",
          "text": [
            "WARNING: Logging before flag parsing goes to stderr.\n",
            "W0808 16:04:52.974529 140401651447680 deprecation.py:506] From /usr/local/lib/python3.6/dist-packages/tensorflow/python/ops/init_ops.py:1251: calling VarianceScaling.__init__ (from tensorflow.python.ops.init_ops) with dtype is deprecated and will be removed in a future version.\n",
            "Instructions for updating:\n",
            "Call initializer instance with the dtype argument instead of passing it to the constructor\n"
          ],
          "name": "stderr"
        },
        {
          "output_type": "stream",
          "text": [
            "Model: \"sequential\"\n",
            "_________________________________________________________________\n",
            "Layer (type)                 Output Shape              Param #   \n",
            "=================================================================\n",
            "conv2d (Conv2D)              (None, 32, 32, 32)        416       \n",
            "_________________________________________________________________\n",
            "max_pooling2d (MaxPooling2D) (None, 16, 16, 32)        0         \n",
            "_________________________________________________________________\n",
            "conv2d_1 (Conv2D)            (None, 16, 16, 64)        8256      \n",
            "_________________________________________________________________\n",
            "max_pooling2d_1 (MaxPooling2 (None, 8, 8, 64)          0         \n",
            "_________________________________________________________________\n",
            "flatten (Flatten)            (None, 4096)              0         \n",
            "_________________________________________________________________\n",
            "dense (Dense)                (None, 256)               1048832   \n",
            "_________________________________________________________________\n",
            "dropout (Dropout)            (None, 256)               0         \n",
            "_________________________________________________________________\n",
            "dense_1 (Dense)              (None, 10)                2570      \n",
            "_________________________________________________________________\n",
            "activation (Activation)      (None, 10)                0         \n",
            "=================================================================\n",
            "Total params: 1,060,074\n",
            "Trainable params: 1,060,074\n",
            "Non-trainable params: 0\n",
            "_________________________________________________________________\n"
          ],
          "name": "stdout"
        }
      ]
    },
    {
      "cell_type": "code",
      "metadata": {
        "id": "WEcS4uUpBD6Q",
        "colab_type": "code",
        "outputId": "ce64e0e5-5e5d-49f1-f2c1-d0fc07fd187f",
        "colab": {
          "base_uri": "https://localhost:8080/",
          "height": 746
        }
      },
      "source": [
        "myCP = ModelCheckpoint(save_best_only=True,filepath='teacher.h5',monitor = 'val_acc')\n",
        "Teacher.fit(x_train,\n",
        "         y_train,\n",
        "         batch_size=128,\n",
        "         epochs=20,\n",
        "         validation_split = 0.2,\n",
        "         callbacks=[myCP])"
      ],
      "execution_count": 6,
      "outputs": [
        {
          "output_type": "stream",
          "text": [
            "Train on 40000 samples, validate on 10000 samples\n",
            "Epoch 1/20\n",
            "40000/40000 [==============================] - 5s 113us/sample - loss: 1.7151 - acc: 0.3742 - val_loss: 1.3678 - val_acc: 0.5238\n",
            "Epoch 2/20\n",
            "40000/40000 [==============================] - 2s 60us/sample - loss: 1.3646 - acc: 0.5132 - val_loss: 1.2138 - val_acc: 0.5784\n",
            "Epoch 3/20\n",
            "40000/40000 [==============================] - 2s 60us/sample - loss: 1.2316 - acc: 0.5628 - val_loss: 1.1118 - val_acc: 0.6105\n",
            "Epoch 4/20\n",
            "40000/40000 [==============================] - 2s 61us/sample - loss: 1.1352 - acc: 0.5953 - val_loss: 1.0647 - val_acc: 0.6238\n",
            "Epoch 5/20\n",
            "40000/40000 [==============================] - 2s 60us/sample - loss: 1.0715 - acc: 0.6198 - val_loss: 1.0000 - val_acc: 0.6473\n",
            "Epoch 6/20\n",
            "40000/40000 [==============================] - 2s 60us/sample - loss: 1.0168 - acc: 0.6384 - val_loss: 0.9776 - val_acc: 0.6557\n",
            "Epoch 7/20\n",
            "40000/40000 [==============================] - 2s 60us/sample - loss: 0.9716 - acc: 0.6569 - val_loss: 0.9352 - val_acc: 0.6722\n",
            "Epoch 8/20\n",
            "40000/40000 [==============================] - 2s 59us/sample - loss: 0.9240 - acc: 0.6737 - val_loss: 0.9215 - val_acc: 0.6769\n",
            "Epoch 9/20\n",
            "40000/40000 [==============================] - 2s 60us/sample - loss: 0.8924 - acc: 0.6853 - val_loss: 0.9097 - val_acc: 0.6815\n",
            "Epoch 10/20\n",
            "40000/40000 [==============================] - 2s 59us/sample - loss: 0.8585 - acc: 0.6938 - val_loss: 0.9015 - val_acc: 0.6850\n",
            "Epoch 11/20\n",
            "40000/40000 [==============================] - 2s 60us/sample - loss: 0.8242 - acc: 0.7086 - val_loss: 0.8857 - val_acc: 0.6898\n",
            "Epoch 12/20\n",
            "40000/40000 [==============================] - 2s 60us/sample - loss: 0.7920 - acc: 0.7206 - val_loss: 0.8626 - val_acc: 0.6988\n",
            "Epoch 13/20\n",
            "40000/40000 [==============================] - 2s 60us/sample - loss: 0.7565 - acc: 0.7315 - val_loss: 0.8575 - val_acc: 0.7037\n",
            "Epoch 14/20\n",
            "40000/40000 [==============================] - 2s 59us/sample - loss: 0.7240 - acc: 0.7446 - val_loss: 0.8731 - val_acc: 0.7017\n",
            "Epoch 15/20\n",
            "40000/40000 [==============================] - 2s 60us/sample - loss: 0.7062 - acc: 0.7470 - val_loss: 0.8543 - val_acc: 0.7034\n",
            "Epoch 16/20\n",
            "40000/40000 [==============================] - 2s 60us/sample - loss: 0.6767 - acc: 0.7586 - val_loss: 0.8453 - val_acc: 0.7129\n",
            "Epoch 17/20\n",
            "40000/40000 [==============================] - 2s 59us/sample - loss: 0.6491 - acc: 0.7670 - val_loss: 0.8573 - val_acc: 0.7119\n",
            "Epoch 18/20\n",
            "40000/40000 [==============================] - 2s 60us/sample - loss: 0.6190 - acc: 0.7773 - val_loss: 0.8600 - val_acc: 0.7139\n",
            "Epoch 19/20\n",
            "40000/40000 [==============================] - 2s 60us/sample - loss: 0.5932 - acc: 0.7865 - val_loss: 0.8636 - val_acc: 0.7153\n",
            "Epoch 20/20\n",
            "40000/40000 [==============================] - 2s 60us/sample - loss: 0.5774 - acc: 0.7936 - val_loss: 0.8589 - val_acc: 0.7183\n"
          ],
          "name": "stdout"
        },
        {
          "output_type": "execute_result",
          "data": {
            "text/plain": [
              "<tensorflow.python.keras.callbacks.History at 0x7fb17d0bcc18>"
            ]
          },
          "metadata": {
            "tags": []
          },
          "execution_count": 6
        }
      ]
    },
    {
      "cell_type": "code",
      "metadata": {
        "id": "ivHJ880q7xhy",
        "colab_type": "code",
        "outputId": "abd8e1cd-e7f4-4eac-f8ae-fc35c0dc7b86",
        "colab": {
          "base_uri": "https://localhost:8080/",
          "height": 176
        }
      },
      "source": [
        "# Retrieve best model from saved\n",
        "Teacher = load_model('teacher.h5')\n",
        "\n",
        "# Evaluation with test set\n",
        "Teacher.evaluate(x_test,y_test)"
      ],
      "execution_count": 7,
      "outputs": [
        {
          "output_type": "stream",
          "text": [
            "W0808 16:05:44.373187 140401651447680 deprecation.py:506] From /usr/local/lib/python3.6/dist-packages/tensorflow/python/ops/init_ops.py:97: calling GlorotUniform.__init__ (from tensorflow.python.ops.init_ops) with dtype is deprecated and will be removed in a future version.\n",
            "Instructions for updating:\n",
            "Call initializer instance with the dtype argument instead of passing it to the constructor\n",
            "W0808 16:05:44.377545 140401651447680 deprecation.py:506] From /usr/local/lib/python3.6/dist-packages/tensorflow/python/ops/init_ops.py:97: calling Zeros.__init__ (from tensorflow.python.ops.init_ops) with dtype is deprecated and will be removed in a future version.\n",
            "Instructions for updating:\n",
            "Call initializer instance with the dtype argument instead of passing it to the constructor\n"
          ],
          "name": "stderr"
        },
        {
          "output_type": "stream",
          "text": [
            "10000/10000 [==============================] - 1s 67us/sample - loss: 0.8681 - acc: 0.7109\n"
          ],
          "name": "stdout"
        },
        {
          "output_type": "execute_result",
          "data": {
            "text/plain": [
              "[0.8681130988121033, 0.7109]"
            ]
          },
          "metadata": {
            "tags": []
          },
          "execution_count": 7
        }
      ]
    },
    {
      "cell_type": "markdown",
      "metadata": {
        "id": "ppnopnPM6DE1",
        "colab_type": "text"
      },
      "source": [
        "# Understand temperature"
      ]
    },
    {
      "cell_type": "code",
      "metadata": {
        "id": "E7g6OTYBLzo8",
        "colab_type": "code",
        "outputId": "092d86ef-64e9-4427-b493-6bff2ba6dd24",
        "colab": {
          "base_uri": "https://localhost:8080/",
          "height": 286
        }
      },
      "source": [
        "plt.imshow(x_train[0,:,:,0])"
      ],
      "execution_count": 8,
      "outputs": [
        {
          "output_type": "execute_result",
          "data": {
            "text/plain": [
              "<matplotlib.image.AxesImage at 0x7fb122b7d860>"
            ]
          },
          "metadata": {
            "tags": []
          },
          "execution_count": 8
        },
        {
          "output_type": "display_data",
          "data": {
            "image/png": "[encoded data removed]",
            "text/plain": [
              "<Figure size 432x288 with 1 Axes>"
            ]
          },
          "metadata": {
            "tags": []
          }
        }
      ]
    },
    {
      "cell_type": "code",
      "metadata": {
        "id": "IgGxH0YOBGLm",
        "colab_type": "code",
        "outputId": "eb03bcb6-e24b-4d49-b52e-addb40b5cf4d",
        "colab": {
          "base_uri": "https://localhost:8080/",
          "height": 729
        }
      },
      "source": [
        "import copy\n",
        "Teacher_logits = Model(Teacher.input,Teacher.layers[-2].output)\n",
        "\n",
        "logits_plot = []\n",
        "\n",
        "class_names = [\"T-shirt/top\",\n",
        "               \"Trouser\",\n",
        "               \"Pullover\",\n",
        "               \"Dress\",\n",
        "               \"Coat\",\n",
        "               \"Sandal\",\n",
        "               \"Shirt\",\n",
        "               \"Sneaker\",\n",
        "               \"Bag\",\n",
        "               \"Ankle boot\"]\n",
        "\n",
        "# Choose the item to visualize temperature\n",
        "item_idx = 3\n",
        "\n",
        "item_image = x_train[item_idx]\n",
        "\n",
        "plt.imshow(item_image[:,:,0])\n",
        "\n",
        "Temperatures = [1,5,10,20,35,50]\n",
        "\n",
        "\n",
        "for Temperature in Temperatures :\n",
        "  # Create temperature layer that produces logits with temperature\n",
        "  T_layer = Lambda(lambda x:x/Temperature)(Teacher_logits.output)\n",
        "  \n",
        "  # Create a softmax layer\n",
        "  Softmax_layer = Softmax()(T_layer)\n",
        "  # Add the teacher T_layer to the whole model\n",
        "  Teacher_logits_soften = Model(Teacher.input,Softmax_layer)\n",
        "                             \n",
        "  # Append for plotting\n",
        "  logits_plot.append(Teacher_logits_soften.predict(np.array([item_image])))\n",
        "  \n",
        "  plt.figure(figsize=(14, 6))\n",
        "for i in range(len(Temperatures)):\n",
        "  sns.lineplot(class_names,logits_plot[i][0],legend=\"full\")\n",
        "  plt.title('This is a '+ class_names[item_idx])\n",
        "  plt.legend(Temperatures,title=\"Temperatures\")"
      ],
      "execution_count": 9,
      "outputs": [
        {
          "output_type": "display_data",
          "data": {
            "image/png": "[encoded data removed]",
            "text/plain": [
              "<Figure size 432x288 with 1 Axes>"
            ]
          },
          "metadata": {
            "tags": []
          }
        },
        {
          "output_type": "display_data",
          "data": {
            "text/plain": [
              "<Figure size 1008x432 with 0 Axes>"
            ]
          },
          "metadata": {
            "tags": []
          }
        },
        {
          "output_type": "display_data",
          "data": {
            "text/plain": [
              "<Figure size 1008x432 with 0 Axes>"
            ]
          },
          "metadata": {
            "tags": []
          }
        },
        {
          "output_type": "display_data",
          "data": {
            "text/plain": [
              "<Figure size 1008x432 with 0 Axes>"
            ]
          },
          "metadata": {
            "tags": []
          }
        },
        {
          "output_type": "display_data",
          "data": {
            "text/plain": [
              "<Figure size 1008x432 with 0 Axes>"
            ]
          },
          "metadata": {
            "tags": []
          }
        },
        {
          "output_type": "display_data",
          "data": {
            "text/plain": [
              "<Figure size 1008x432 with 0 Axes>"
            ]
          },
          "metadata": {
            "tags": []
          }
        },
        {
          "output_type": "display_data",
          "data": {
            "image/png": "[encoded data removed]",
            "text/plain": [
              "<Figure size 1008x432 with 1 Axes>"
            ]
          },
          "metadata": {
            "tags": []
          }
        }
      ]
    },
    {
      "cell_type": "markdown",
      "metadata": {
        "id": "VC7j3YBUWe_2",
        "colab_type": "text"
      },
      "source": [
        "# Create a teacher model that soften output\n",
        "In this notebook, we use temperature 10.0"
      ]
    },
    {
      "cell_type": "code",
      "metadata": {
        "id": "RG0cEG8GRZm0",
        "colab_type": "code",
        "colab": {}
      },
      "source": [
        "Temperature = 3.25\n",
        "T_layer = Lambda(lambda x:x/Temperature)(Teacher_logits.output)\n",
        "Softmax_layer = Activation('softmax')(T_layer)\n",
        "Teacher_soften = Model(Teacher.input,Softmax_layer)"
      ],
      "execution_count": 0,
      "outputs": []
    },
    {
      "cell_type": "code",
      "metadata": {
        "id": "5eS3Z8rBWY3a",
        "colab_type": "code",
        "colab": {}
      },
      "source": [
        "# Predict and convert to sparse categorical matrix\n",
        "y_train_new = Teacher_soften.predict(x_train)\n",
        "y_test_new = Teacher_soften.predict(x_test)\n",
        "\n",
        "y_train_new = np.c_[to_categorical(y_train),y_train_new]\n",
        "y_test_new = np.c_[to_categorical(y_test),y_test_new]"
      ],
      "execution_count": 0,
      "outputs": []
    },
    {
      "cell_type": "markdown",
      "metadata": {
        "id": "C0wHj1lobBaa",
        "colab_type": "text"
      },
      "source": [
        "# Create a student model that produces with and without soften output"
      ]
    },
    {
      "cell_type": "code",
      "metadata": {
        "id": "cCOh7PFP6fPV",
        "colab_type": "code",
        "outputId": "76ae4233-0737-413e-b8e7-0c8c12e6f6cd",
        "colab": {
          "base_uri": "https://localhost:8080/",
          "height": 295
        }
      },
      "source": [
        "Student = Sequential() #a Must define the input shape in the first layer of the neural network\n",
        "Student.add(Flatten(input_shape=(32,32,3)))\n",
        "Student.add(Dense(64, activation='relu'))\n",
        "Student.add(Dropout(0.5))\n",
        "Student.add(Dense(10))\n",
        "Student.summary()"
      ],
      "execution_count": 31,
      "outputs": [
        {
          "output_type": "stream",
          "text": [
            "Model: \"sequential_4\"\n",
            "_________________________________________________________________\n",
            "Layer (type)                 Output Shape              Param #   \n",
            "=================================================================\n",
            "flatten_4 (Flatten)          (None, 3072)              0         \n",
            "_________________________________________________________________\n",
            "dense_10 (Dense)             (None, 64)                196672    \n",
            "_________________________________________________________________\n",
            "dropout_1 (Dropout)          (None, 64)                0         \n",
            "_________________________________________________________________\n",
            "dense_11 (Dense)             (None, 10)                650       \n",
            "=================================================================\n",
            "Total params: 197,322\n",
            "Trainable params: 197,322\n",
            "Non-trainable params: 0\n",
            "_________________________________________________________________\n"
          ],
          "name": "stdout"
        }
      ]
    },
    {
      "cell_type": "code",
      "metadata": {
        "id": "2ic-g-z1ODuY",
        "colab_type": "code",
        "colab": {}
      },
      "source": [
        "student_logits = Student.layers[-1].output\n",
        "\n",
        "# Compute softmax\n",
        "probs = Activation(\"softmax\")(student_logits)\n",
        "\n",
        "# Compute softmax with softened logits\n",
        "logits_T = Lambda(lambda x:x/Temperature)(student_logits)\n",
        "probs_T = Activation(\"softmax\")(logits_T)\n",
        "\n",
        "CombinedLayers = concatenate([probs,probs_T])\n",
        "\n",
        "StudentModel = Model(Student.input,CombinedLayers)"
      ],
      "execution_count": 0,
      "outputs": []
    },
    {
      "cell_type": "code",
      "metadata": {
        "id": "n2-QsDZ5jtA8",
        "colab_type": "code",
        "colab": {}
      },
      "source": [
        "nb_classes=10\n",
        "def KD_loss(y_true,y_pred,lambd=0.5,T=10.0):\n",
        "  y_true,y_true_KD = y_true[:,:NUM_CLASSES],y_true[:,NUM_CLASSES:]\n",
        "  y_pred,y_pred_KD = y_pred[:,:NUM_CLASSES],y_pred[:,NUM_CLASSES:]\n",
        "  # Classic cross-entropy (without temperature)\n",
        "  CE_loss = logloss(y_true,y_pred)\n",
        "  # KL-Divergence loss for softened output (with temperature)\n",
        "  KL_loss = T**2*KLD_Loss(y_true_KD,y_pred_KD)\n",
        "  \n",
        "  return lambd*CE_loss + (1-lambd)*KL_loss\n",
        "\n",
        "def accuracy(y_true,y_pred):\n",
        "  return categorical_accuracy(y_true,y_pred)\n",
        "  "
      ],
      "execution_count": 0,
      "outputs": []
    },
    {
      "cell_type": "code",
      "metadata": {
        "id": "0pbswIyRhYUG",
        "colab_type": "code",
        "colab": {}
      },
      "source": [
        "StudentModel.compile(optimizer='adam',loss=lambda y_true,y_pred: KD_loss(y_true, y_pred,lambd=0.45,T=Temperature),metrics=[accuracy])"
      ],
      "execution_count": 0,
      "outputs": []
    },
    {
      "cell_type": "code",
      "metadata": {
        "id": "am0Ufoz6jc3-",
        "colab_type": "code",
        "outputId": "3ccd2d95-9842-4efd-d3f3-52e22c2f8c05",
        "colab": {
          "base_uri": "https://localhost:8080/",
          "height": 1000
        }
      },
      "source": [
        "StudentModel.fit(x_train,y_train_new,epochs=50,validation_split=0.15,batch_size=128)"
      ],
      "execution_count": 30,
      "outputs": [
        {
          "output_type": "stream",
          "text": [
            "Train on 42500 samples, validate on 7500 samples\n",
            "Epoch 1/50\n",
            "42500/42500 [==============================] - 2s 50us/sample - loss: 4.1227 - accuracy: 0.3040 - val_loss: 3.7351 - val_accuracy: 0.3433\n",
            "Epoch 2/50\n",
            "42500/42500 [==============================] - 2s 44us/sample - loss: 3.6639 - accuracy: 0.3654 - val_loss: 3.7239 - val_accuracy: 0.3172\n",
            "Epoch 3/50\n",
            "42500/42500 [==============================] - 2s 43us/sample - loss: 3.5115 - accuracy: 0.3838 - val_loss: 3.6574 - val_accuracy: 0.3424\n",
            "Epoch 4/50\n",
            "42500/42500 [==============================] - 2s 44us/sample - loss: 3.3966 - accuracy: 0.3939 - val_loss: 3.4471 - val_accuracy: 0.3727\n",
            "Epoch 5/50\n",
            "42500/42500 [==============================] - 2s 44us/sample - loss: 3.3275 - accuracy: 0.4039 - val_loss: 3.5554 - val_accuracy: 0.3605\n",
            "Epoch 6/50\n",
            "42500/42500 [==============================] - 2s 44us/sample - loss: 3.2623 - accuracy: 0.4092 - val_loss: 3.6559 - val_accuracy: 0.3484\n",
            "Epoch 7/50\n",
            "42500/42500 [==============================] - 2s 44us/sample - loss: 3.2134 - accuracy: 0.4143 - val_loss: 3.1360 - val_accuracy: 0.4044\n",
            "Epoch 8/50\n",
            "42500/42500 [==============================] - 2s 44us/sample - loss: 3.1346 - accuracy: 0.4254 - val_loss: 3.1458 - val_accuracy: 0.3871\n",
            "Epoch 9/50\n",
            "42500/42500 [==============================] - 2s 44us/sample - loss: 3.1095 - accuracy: 0.4246 - val_loss: 3.0079 - val_accuracy: 0.4077\n",
            "Epoch 10/50\n",
            "42500/42500 [==============================] - 2s 44us/sample - loss: 3.0630 - accuracy: 0.4329 - val_loss: 3.0260 - val_accuracy: 0.4044\n",
            "Epoch 11/50\n",
            "42500/42500 [==============================] - 2s 44us/sample - loss: 3.0286 - accuracy: 0.4372 - val_loss: 3.2792 - val_accuracy: 0.3691\n",
            "Epoch 12/50\n",
            "42500/42500 [==============================] - 2s 44us/sample - loss: 3.0025 - accuracy: 0.4364 - val_loss: 3.1786 - val_accuracy: 0.3940\n",
            "Epoch 13/50\n",
            "42500/42500 [==============================] - 2s 45us/sample - loss: 2.9792 - accuracy: 0.4396 - val_loss: 2.9493 - val_accuracy: 0.4209\n",
            "Epoch 14/50\n",
            "42500/42500 [==============================] - 2s 44us/sample - loss: 2.9269 - accuracy: 0.4466 - val_loss: 3.1406 - val_accuracy: 0.3997\n",
            "Epoch 15/50\n",
            "42500/42500 [==============================] - 2s 45us/sample - loss: 2.9084 - accuracy: 0.4484 - val_loss: 2.8367 - val_accuracy: 0.4299\n",
            "Epoch 16/50\n",
            "42500/42500 [==============================] - 2s 44us/sample - loss: 2.8738 - accuracy: 0.4504 - val_loss: 2.8910 - val_accuracy: 0.4224\n",
            "Epoch 17/50\n",
            "42500/42500 [==============================] - 2s 44us/sample - loss: 2.8436 - accuracy: 0.4562 - val_loss: 2.9000 - val_accuracy: 0.4115\n",
            "Epoch 18/50\n",
            "42500/42500 [==============================] - 2s 44us/sample - loss: 2.8165 - accuracy: 0.4562 - val_loss: 2.8595 - val_accuracy: 0.4152\n",
            "Epoch 19/50\n",
            "42500/42500 [==============================] - 2s 44us/sample - loss: 2.8038 - accuracy: 0.4581 - val_loss: 2.8806 - val_accuracy: 0.4275\n",
            "Epoch 20/50\n",
            "42500/42500 [==============================] - 2s 44us/sample - loss: 2.7703 - accuracy: 0.4612 - val_loss: 2.7487 - val_accuracy: 0.4380\n",
            "Epoch 21/50\n",
            "42500/42500 [==============================] - 2s 44us/sample - loss: 2.7446 - accuracy: 0.4620 - val_loss: 2.7515 - val_accuracy: 0.4325\n",
            "Epoch 22/50\n",
            "42500/42500 [==============================] - 2s 45us/sample - loss: 2.7189 - accuracy: 0.4652 - val_loss: 2.7822 - val_accuracy: 0.4335\n",
            "Epoch 23/50\n",
            "42500/42500 [==============================] - 2s 45us/sample - loss: 2.7142 - accuracy: 0.4642 - val_loss: 2.8187 - val_accuracy: 0.4324\n",
            "Epoch 24/50\n",
            "42500/42500 [==============================] - 2s 44us/sample - loss: 2.6956 - accuracy: 0.4657 - val_loss: 2.6967 - val_accuracy: 0.4456\n",
            "Epoch 25/50\n",
            "42500/42500 [==============================] - 2s 44us/sample - loss: 2.6813 - accuracy: 0.4689 - val_loss: 2.7654 - val_accuracy: 0.4312\n",
            "Epoch 26/50\n",
            "42500/42500 [==============================] - 2s 44us/sample - loss: 2.6598 - accuracy: 0.4695 - val_loss: 3.0765 - val_accuracy: 0.4181\n",
            "Epoch 27/50\n",
            "42500/42500 [==============================] - 2s 44us/sample - loss: 2.6667 - accuracy: 0.4708 - val_loss: 2.9701 - val_accuracy: 0.4029\n",
            "Epoch 28/50\n",
            "42500/42500 [==============================] - 2s 44us/sample - loss: 2.6387 - accuracy: 0.4732 - val_loss: 2.7239 - val_accuracy: 0.4479\n",
            "Epoch 29/50\n",
            "42500/42500 [==============================] - 2s 44us/sample - loss: 2.6335 - accuracy: 0.4730 - val_loss: 2.8951 - val_accuracy: 0.4216\n",
            "Epoch 30/50\n",
            "42500/42500 [==============================] - 2s 44us/sample - loss: 2.6294 - accuracy: 0.4724 - val_loss: 2.6456 - val_accuracy: 0.4495\n",
            "Epoch 31/50\n",
            "42500/42500 [==============================] - 2s 44us/sample - loss: 2.6234 - accuracy: 0.4744 - val_loss: 2.8990 - val_accuracy: 0.4268\n",
            "Epoch 32/50\n",
            "42500/42500 [==============================] - 2s 44us/sample - loss: 2.6214 - accuracy: 0.4741 - val_loss: 2.6017 - val_accuracy: 0.4521\n",
            "Epoch 33/50\n",
            "42500/42500 [==============================] - 2s 43us/sample - loss: 2.5884 - accuracy: 0.4782 - val_loss: 2.7423 - val_accuracy: 0.4351\n",
            "Epoch 34/50\n",
            "42500/42500 [==============================] - 2s 44us/sample - loss: 2.5869 - accuracy: 0.4788 - val_loss: 2.7003 - val_accuracy: 0.4441\n",
            "Epoch 35/50\n",
            "42500/42500 [==============================] - 2s 44us/sample - loss: 2.5883 - accuracy: 0.4781 - val_loss: 2.6788 - val_accuracy: 0.4452\n",
            "Epoch 36/50\n",
            "42500/42500 [==============================] - 2s 44us/sample - loss: 2.5747 - accuracy: 0.4767 - val_loss: 2.7261 - val_accuracy: 0.4381\n",
            "Epoch 37/50\n",
            "42500/42500 [==============================] - 2s 43us/sample - loss: 2.5801 - accuracy: 0.4768 - val_loss: 2.9231 - val_accuracy: 0.4124\n",
            "Epoch 38/50\n",
            "42500/42500 [==============================] - 2s 45us/sample - loss: 2.5819 - accuracy: 0.4778 - val_loss: 2.7881 - val_accuracy: 0.4315\n",
            "Epoch 39/50\n",
            "42500/42500 [==============================] - 2s 45us/sample - loss: 2.5646 - accuracy: 0.4796 - val_loss: 3.0285 - val_accuracy: 0.4143\n",
            "Epoch 40/50\n",
            "42500/42500 [==============================] - 2s 44us/sample - loss: 2.5493 - accuracy: 0.4819 - val_loss: 2.6684 - val_accuracy: 0.4307\n",
            "Epoch 41/50\n",
            "42500/42500 [==============================] - 2s 44us/sample - loss: 2.5457 - accuracy: 0.4824 - val_loss: 2.7064 - val_accuracy: 0.4349\n",
            "Epoch 42/50\n",
            "42500/42500 [==============================] - 2s 43us/sample - loss: 2.5387 - accuracy: 0.4832 - val_loss: 2.6008 - val_accuracy: 0.4576\n",
            "Epoch 43/50\n",
            "42500/42500 [==============================] - 2s 44us/sample - loss: 2.5365 - accuracy: 0.4828 - val_loss: 2.6595 - val_accuracy: 0.4447\n",
            "Epoch 44/50\n",
            "42500/42500 [==============================] - 2s 44us/sample - loss: 2.5441 - accuracy: 0.4820 - val_loss: 3.2394 - val_accuracy: 0.4027\n",
            "Epoch 45/50\n",
            "42500/42500 [==============================] - 2s 44us/sample - loss: 2.5516 - accuracy: 0.4802 - val_loss: 2.6401 - val_accuracy: 0.4531\n",
            "Epoch 46/50\n",
            "42500/42500 [==============================] - 2s 43us/sample - loss: 2.5140 - accuracy: 0.4832 - val_loss: 2.5447 - val_accuracy: 0.4593\n",
            "Epoch 47/50\n",
            "42500/42500 [==============================] - 2s 44us/sample - loss: 2.5148 - accuracy: 0.4858 - val_loss: 2.6195 - val_accuracy: 0.4505\n",
            "Epoch 48/50\n",
            "42500/42500 [==============================] - 2s 44us/sample - loss: 2.5100 - accuracy: 0.4842 - val_loss: 2.6588 - val_accuracy: 0.4523\n",
            "Epoch 49/50\n",
            "42500/42500 [==============================] - 2s 44us/sample - loss: 2.5087 - accuracy: 0.4848 - val_loss: 2.6333 - val_accuracy: 0.4440\n",
            "Epoch 50/50\n",
            "42500/42500 [==============================] - 2s 44us/sample - loss: 2.5157 - accuracy: 0.4848 - val_loss: 2.8309 - val_accuracy: 0.4357\n"
          ],
          "name": "stdout"
        },
        {
          "output_type": "execute_result",
          "data": {
            "text/plain": [
              "<tensorflow.python.keras.callbacks.History at 0x7fb0ed6f0f98>"
            ]
          },
          "metadata": {
            "tags": []
          },
          "execution_count": 30
        }
      ]
    },
    {
      "cell_type": "code",
      "metadata": {
        "id": "-QujVzs7rRxN",
        "colab_type": "code",
        "colab": {
          "base_uri": "https://localhost:8080/",
          "height": 121
        },
        "outputId": "0f625003-f38d-4c87-d99e-6feabdbe1c2f"
      },
      "source": [
        "StudentModel.predict(x_test)[3]"
      ],
      "execution_count": 17,
      "outputs": [
        {
          "output_type": "execute_result",
          "data": {
            "text/plain": [
              "array([1.6898202e-11, 1.0000000e+00, 6.7737320e-14, 5.7937443e-11,\n",
              "       1.4971269e-10, 9.0220249e-15, 3.5397504e-13, 9.9915626e-18,\n",
              "       4.8287921e-15, 2.3620692e-17, 5.5596028e-02, 6.6414016e-01,\n",
              "       3.2014191e-02, 6.2886246e-02, 6.9148950e-02, 2.6169175e-02,\n",
              "       3.7770871e-02, 1.3250221e-02, 2.4583491e-02, 1.4440722e-02],\n",
              "      dtype=float32)"
            ]
          },
          "metadata": {
            "tags": []
          },
          "execution_count": 17
        }
      ]
    },
    {
      "cell_type": "code",
      "metadata": {
        "id": "ueHtM2HAr3kI",
        "colab_type": "code",
        "colab": {
          "base_uri": "https://localhost:8080/",
          "height": 34
        },
        "outputId": "dd4f35c0-d709-43ff-9073-39cdb948f3cf"
      },
      "source": [
        "y_test[3]"
      ],
      "execution_count": 18,
      "outputs": [
        {
          "output_type": "execute_result",
          "data": {
            "text/plain": [
              "1"
            ]
          },
          "metadata": {
            "tags": []
          },
          "execution_count": 18
        }
      ]
    },
    {
      "cell_type": "code",
      "metadata": {
        "id": "JBjfgX3hzgjA",
        "colab_type": "code",
        "colab": {}
      },
      "source": [
        "# Create a "
      ],
      "execution_count": 0,
      "outputs": []
    },
    {
      "cell_type": "markdown",
      "metadata": {
        "id": "1k5LsqTWzh56",
        "colab_type": "text"
      },
      "source": [
        "# Create a standalone student"
      ]
    },
    {
      "cell_type": "code",
      "metadata": {
        "id": "vfInFTnqr6Yg",
        "colab_type": "code",
        "outputId": "e15ab915-72dc-468e-a43a-6b631250287a",
        "colab": {
          "base_uri": "https://localhost:8080/",
          "height": 260
        }
      },
      "source": [
        "AloneModel = Sequential() #a Must define the input shape in the first layer of the neural netAloneStudent = Sequential() #a Must define the input shape in the first layer of the neural network\n",
        "AloneModel.add(Flatten(input_shape=(32,32,3)))\n",
        "AloneModel.add(Dense(64, activation='relu'))\n",
        "AloneModel.add(Dense(10,activation=\"softmax\"))\n",
        "AloneModel.summary()"
      ],
      "execution_count": 32,
      "outputs": [
        {
          "output_type": "stream",
          "text": [
            "Model: \"sequential_5\"\n",
            "_________________________________________________________________\n",
            "Layer (type)                 Output Shape              Param #   \n",
            "=================================================================\n",
            "flatten_5 (Flatten)          (None, 3072)              0         \n",
            "_________________________________________________________________\n",
            "dense_12 (Dense)             (None, 64)                196672    \n",
            "_________________________________________________________________\n",
            "dense_13 (Dense)             (None, 10)                650       \n",
            "=================================================================\n",
            "Total params: 197,322\n",
            "Trainable params: 197,322\n",
            "Non-trainable params: 0\n",
            "_________________________________________________________________\n"
          ],
          "name": "stdout"
        }
      ]
    },
    {
      "cell_type": "code",
      "metadata": {
        "id": "N9rxNJ9AzkVj",
        "colab_type": "code",
        "outputId": "29599a3e-3dcd-41c2-9652-86d0cd3642ba",
        "colab": {
          "base_uri": "https://localhost:8080/",
          "height": 1000
        }
      },
      "source": [
        "AloneModel.compile(optimizer='adam',loss='sparse_categorical_crossentropy',metrics=['accuracy'])\n",
        "\n",
        "AloneModel.fit(x_train,y_train,epochs=50,validation_split=0.15,batch_size=128)\n"
      ],
      "execution_count": 33,
      "outputs": [
        {
          "output_type": "stream",
          "text": [
            "Train on 42500 samples, validate on 7500 samples\n",
            "Epoch 1/50\n",
            "42500/42500 [==============================] - 2s 41us/sample - loss: 2.0116 - acc: 0.2633 - val_loss: 1.8950 - val_acc: 0.3239\n",
            "Epoch 2/50\n",
            "42500/42500 [==============================] - 1s 34us/sample - loss: 1.8609 - acc: 0.3339 - val_loss: 1.9583 - val_acc: 0.2999\n",
            "Epoch 3/50\n",
            "42500/42500 [==============================] - 1s 33us/sample - loss: 1.8315 - acc: 0.3445 - val_loss: 1.8394 - val_acc: 0.3409\n",
            "Epoch 4/50\n",
            "42500/42500 [==============================] - 1s 33us/sample - loss: 1.8075 - acc: 0.3547 - val_loss: 1.8282 - val_acc: 0.3543\n",
            "Epoch 5/50\n",
            "42500/42500 [==============================] - 1s 34us/sample - loss: 1.7908 - acc: 0.3607 - val_loss: 1.8591 - val_acc: 0.3324\n",
            "Epoch 6/50\n",
            "42500/42500 [==============================] - 1s 33us/sample - loss: 1.7737 - acc: 0.3646 - val_loss: 1.7805 - val_acc: 0.3668\n",
            "Epoch 7/50\n",
            "42500/42500 [==============================] - 1s 33us/sample - loss: 1.7491 - acc: 0.3732 - val_loss: 1.7883 - val_acc: 0.3565\n",
            "Epoch 8/50\n",
            "42500/42500 [==============================] - 1s 33us/sample - loss: 1.7380 - acc: 0.3777 - val_loss: 1.7637 - val_acc: 0.3743\n",
            "Epoch 9/50\n",
            "42500/42500 [==============================] - 1s 33us/sample - loss: 1.7273 - acc: 0.3815 - val_loss: 1.7542 - val_acc: 0.3725\n",
            "Epoch 10/50\n",
            "42500/42500 [==============================] - 1s 33us/sample - loss: 1.7285 - acc: 0.3790 - val_loss: 1.7689 - val_acc: 0.3736\n",
            "Epoch 11/50\n",
            "42500/42500 [==============================] - 1s 32us/sample - loss: 1.7168 - acc: 0.3889 - val_loss: 1.7670 - val_acc: 0.3639\n",
            "Epoch 12/50\n",
            "42500/42500 [==============================] - 1s 33us/sample - loss: 1.7080 - acc: 0.3889 - val_loss: 1.7625 - val_acc: 0.3716\n",
            "Epoch 13/50\n",
            "42500/42500 [==============================] - 1s 33us/sample - loss: 1.7081 - acc: 0.3880 - val_loss: 1.7645 - val_acc: 0.3713\n",
            "Epoch 14/50\n",
            "42500/42500 [==============================] - 1s 32us/sample - loss: 1.7021 - acc: 0.3915 - val_loss: 1.7600 - val_acc: 0.3723\n",
            "Epoch 15/50\n",
            "42500/42500 [==============================] - 1s 34us/sample - loss: 1.6988 - acc: 0.3926 - val_loss: 1.7692 - val_acc: 0.3704\n",
            "Epoch 16/50\n",
            "42500/42500 [==============================] - 1s 33us/sample - loss: 1.6931 - acc: 0.3932 - val_loss: 1.7685 - val_acc: 0.3701\n",
            "Epoch 17/50\n",
            "42500/42500 [==============================] - 1s 33us/sample - loss: 1.6816 - acc: 0.3997 - val_loss: 1.7243 - val_acc: 0.3907\n",
            "Epoch 18/50\n",
            "42500/42500 [==============================] - 1s 33us/sample - loss: 1.6830 - acc: 0.3985 - val_loss: 1.7186 - val_acc: 0.3917\n",
            "Epoch 19/50\n",
            "42500/42500 [==============================] - 1s 32us/sample - loss: 1.6751 - acc: 0.4039 - val_loss: 1.7441 - val_acc: 0.3807\n",
            "Epoch 20/50\n",
            "42500/42500 [==============================] - 1s 33us/sample - loss: 1.6690 - acc: 0.4065 - val_loss: 1.7259 - val_acc: 0.3928\n",
            "Epoch 21/50\n",
            "42500/42500 [==============================] - 1s 33us/sample - loss: 1.6686 - acc: 0.4041 - val_loss: 1.7768 - val_acc: 0.3548\n",
            "Epoch 22/50\n",
            "42500/42500 [==============================] - 1s 33us/sample - loss: 1.6652 - acc: 0.4070 - val_loss: 1.7493 - val_acc: 0.3745\n",
            "Epoch 23/50\n",
            "42500/42500 [==============================] - 1s 33us/sample - loss: 1.6561 - acc: 0.4098 - val_loss: 1.7017 - val_acc: 0.3951\n",
            "Epoch 24/50\n",
            "42500/42500 [==============================] - 1s 33us/sample - loss: 1.6548 - acc: 0.4069 - val_loss: 1.7114 - val_acc: 0.3867\n",
            "Epoch 25/50\n",
            "42500/42500 [==============================] - 1s 33us/sample - loss: 1.6562 - acc: 0.4109 - val_loss: 1.6994 - val_acc: 0.3947\n",
            "Epoch 26/50\n",
            "42500/42500 [==============================] - 1s 33us/sample - loss: 1.6491 - acc: 0.4100 - val_loss: 1.6970 - val_acc: 0.3971\n",
            "Epoch 27/50\n",
            "42500/42500 [==============================] - 1s 34us/sample - loss: 1.6458 - acc: 0.4122 - val_loss: 1.7042 - val_acc: 0.3928\n",
            "Epoch 28/50\n",
            "42500/42500 [==============================] - 1s 33us/sample - loss: 1.6484 - acc: 0.4088 - val_loss: 1.7639 - val_acc: 0.3676\n",
            "Epoch 29/50\n",
            "42500/42500 [==============================] - 1s 33us/sample - loss: 1.6423 - acc: 0.4118 - val_loss: 1.6940 - val_acc: 0.3947\n",
            "Epoch 30/50\n",
            "42500/42500 [==============================] - 1s 33us/sample - loss: 1.6361 - acc: 0.4137 - val_loss: 1.7029 - val_acc: 0.3892\n",
            "Epoch 31/50\n",
            "42500/42500 [==============================] - 1s 32us/sample - loss: 1.6335 - acc: 0.4172 - val_loss: 1.7074 - val_acc: 0.3857\n",
            "Epoch 32/50\n",
            "42500/42500 [==============================] - 1s 33us/sample - loss: 1.6338 - acc: 0.4180 - val_loss: 1.7098 - val_acc: 0.3900\n",
            "Epoch 33/50\n",
            "42500/42500 [==============================] - 1s 33us/sample - loss: 1.6322 - acc: 0.4163 - val_loss: 1.6920 - val_acc: 0.3991\n",
            "Epoch 34/50\n",
            "42500/42500 [==============================] - 1s 32us/sample - loss: 1.6290 - acc: 0.4160 - val_loss: 1.7088 - val_acc: 0.3908\n",
            "Epoch 35/50\n",
            "42500/42500 [==============================] - 1s 33us/sample - loss: 1.6326 - acc: 0.4161 - val_loss: 1.7131 - val_acc: 0.3948\n",
            "Epoch 36/50\n",
            "42500/42500 [==============================] - 1s 33us/sample - loss: 1.6220 - acc: 0.4190 - val_loss: 1.6709 - val_acc: 0.4036\n",
            "Epoch 37/50\n",
            "42500/42500 [==============================] - 1s 33us/sample - loss: 1.6190 - acc: 0.4208 - val_loss: 1.6891 - val_acc: 0.3956\n",
            "Epoch 38/50\n",
            "42500/42500 [==============================] - 1s 33us/sample - loss: 1.6215 - acc: 0.4181 - val_loss: 1.6949 - val_acc: 0.3963\n",
            "Epoch 39/50\n",
            "42500/42500 [==============================] - 1s 33us/sample - loss: 1.6196 - acc: 0.4215 - val_loss: 1.7545 - val_acc: 0.3652\n",
            "Epoch 40/50\n",
            "42500/42500 [==============================] - 1s 33us/sample - loss: 1.6180 - acc: 0.4201 - val_loss: 1.7585 - val_acc: 0.3829\n",
            "Epoch 41/50\n",
            "42500/42500 [==============================] - 1s 33us/sample - loss: 1.6210 - acc: 0.4194 - val_loss: 1.6981 - val_acc: 0.3985\n",
            "Epoch 42/50\n",
            "42500/42500 [==============================] - 1s 33us/sample - loss: 1.6132 - acc: 0.4216 - val_loss: 1.7045 - val_acc: 0.3909\n",
            "Epoch 43/50\n",
            "42500/42500 [==============================] - 1s 33us/sample - loss: 1.6109 - acc: 0.4232 - val_loss: 1.6771 - val_acc: 0.4003\n",
            "Epoch 44/50\n",
            "42500/42500 [==============================] - 1s 33us/sample - loss: 1.6123 - acc: 0.4212 - val_loss: 1.6843 - val_acc: 0.4032\n",
            "Epoch 45/50\n",
            "42500/42500 [==============================] - 1s 33us/sample - loss: 1.6083 - acc: 0.4236 - val_loss: 1.7300 - val_acc: 0.3848\n",
            "Epoch 46/50\n",
            "42500/42500 [==============================] - 1s 33us/sample - loss: 1.6155 - acc: 0.4205 - val_loss: 1.7101 - val_acc: 0.3855\n",
            "Epoch 47/50\n",
            "42500/42500 [==============================] - 1s 34us/sample - loss: 1.6074 - acc: 0.4234 - val_loss: 1.6900 - val_acc: 0.3977\n",
            "Epoch 48/50\n",
            "42500/42500 [==============================] - 1s 33us/sample - loss: 1.6095 - acc: 0.4251 - val_loss: 1.6798 - val_acc: 0.4013\n",
            "Epoch 49/50\n",
            "42500/42500 [==============================] - 1s 34us/sample - loss: 1.6057 - acc: 0.4226 - val_loss: 1.7569 - val_acc: 0.3752\n",
            "Epoch 50/50\n",
            "42500/42500 [==============================] - 1s 34us/sample - loss: 1.6054 - acc: 0.4229 - val_loss: 1.9081 - val_acc: 0.3127\n"
          ],
          "name": "stdout"
        },
        {
          "output_type": "execute_result",
          "data": {
            "text/plain": [
              "<tensorflow.python.keras.callbacks.History at 0x7fb0ed2def98>"
            ]
          },
          "metadata": {
            "tags": []
          },
          "execution_count": 33
        }
      ]
    },
    {
      "cell_type": "code",
      "metadata": {
        "id": "14Fju4pe0Ln2",
        "colab_type": "code",
        "outputId": "56c5b6e2-977e-45d7-9317-f5e1e3039c93",
        "colab": {
          "base_uri": "https://localhost:8080/",
          "height": 52
        }
      },
      "source": [
        "AloneModel.evaluate(x_test,y_test)"
      ],
      "execution_count": 36,
      "outputs": [
        {
          "output_type": "stream",
          "text": [
            "10000/10000 [==============================] - 1s 61us/sample - loss: 1.8860 - acc: 0.3252\n"
          ],
          "name": "stdout"
        },
        {
          "output_type": "execute_result",
          "data": {
            "text/plain": [
              "[1.8859866428375245, 0.3252]"
            ]
          },
          "metadata": {
            "tags": []
          },
          "execution_count": 36
        }
      ]
    },
    {
      "cell_type": "code",
      "metadata": {
        "id": "r9b6NOa-0llS",
        "colab_type": "code",
        "colab": {}
      },
      "source": [
        ""
      ],
      "execution_count": 0,
      "outputs": []
    }
  ]
}