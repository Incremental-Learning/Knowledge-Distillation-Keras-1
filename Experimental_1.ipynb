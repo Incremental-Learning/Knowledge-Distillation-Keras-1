{
  "nbformat": 4,
  "nbformat_minor": 0,
  "metadata": {
    "colab": {
      "name": "Experimental-1",
      "version": "0.3.2",
      "provenance": [],
      "include_colab_link": true
    },
    "kernelspec": {
      "name": "python3",
      "display_name": "Python 3"
    },
    "accelerator": "GPU"
  },
  "cells": [
    {
      "cell_type": "markdown",
      "metadata": {
        "id": "view-in-github",
        "colab_type": "text"
      },
      "source": [
        "<a href=\"https://colab.research.google.com/github/patrickphatnguyen/Knowledge-Distillation-CNN/blob/master/Experimental_1.ipynb\" target=\"_parent\"><img src=\"https://colab.research.google.com/assets/colab-badge.svg\" alt=\"Open In Colab\"/></a>"
      ]
    },
    {
      "cell_type": "code",
      "metadata": {
        "id": "xWnbC2ooAfNf",
        "colab_type": "code",
        "colab": {
          "base_uri": "https://localhost:8080/",
          "height": 173
        },
        "outputId": "8d5b2270-f7e0-4977-acdb-f374f3fc7187"
      },
      "source": [
        "# Note in Colab you can type \"pip install\" directly in the notebook\n",
        "!pip install -q -U tensorflow>=1.8.0\n",
        "import tensorflow as tf\n",
        "import numpy as np\n",
        "import matplotlib.pyplot as plt# Load the fashion-mnist pre-shuffled train data and test data\n",
        "(x_train, y_train), (x_test, y_test) = tf.keras.datasets.fashion_mnist.load_data()\n",
        "print(\"x_train shape:\", x_train.shape, \"y_train shape:\", y_train.shape)"
      ],
      "execution_count": 4,
      "outputs": [
        {
          "output_type": "stream",
          "text": [
            "Downloading data from https://storage.googleapis.com/tensorflow/tf-keras-datasets/train-labels-idx1-ubyte.gz\n",
            "32768/29515 [=================================] - 0s 0us/step\n",
            "Downloading data from https://storage.googleapis.com/tensorflow/tf-keras-datasets/train-images-idx3-ubyte.gz\n",
            "26427392/26421880 [==============================] - 0s 0us/step\n",
            "Downloading data from https://storage.googleapis.com/tensorflow/tf-keras-datasets/t10k-labels-idx1-ubyte.gz\n",
            "8192/5148 [===============================================] - 0s 0us/step\n",
            "Downloading data from https://storage.googleapis.com/tensorflow/tf-keras-datasets/t10k-images-idx3-ubyte.gz\n",
            "4423680/4422102 [==============================] - 0s 0us/step\n",
            "x_train shape: (60000, 28, 28) y_train shape: (60000,)\n"
          ],
          "name": "stdout"
        }
      ]
    },
    {
      "cell_type": "code",
      "metadata": {
        "id": "N4nKTacmAjXh",
        "colab_type": "code",
        "colab": {
          "base_uri": "https://localhost:8080/",
          "height": 286
        },
        "outputId": "42e66f34-e76a-48dc-f221-cea5dfde42a6"
      },
      "source": [
        "\n",
        "# Show one of the images from the training dataset\n",
        "plt.imshow(x_train[1])"
      ],
      "execution_count": 5,
      "outputs": [
        {
          "output_type": "execute_result",
          "data": {
            "text/plain": [
              "<matplotlib.image.AxesImage at 0x7ff8ee0155f8>"
            ]
          },
          "metadata": {
            "tags": []
          },
          "execution_count": 5
        },
        {
          "output_type": "display_data",
          "data": {
            "image/png": "[encoded data removed]",
            "text/plain": [
              "<Figure size 432x288 with 1 Axes>"
            ]
          },
          "metadata": {
            "tags": []
          }
        }
      ]
    },
    {
      "cell_type": "code",
      "metadata": {
        "id": "saLen812AlhY",
        "colab_type": "code",
        "colab": {}
      },
      "source": [
        "x_train = x_train.astype('float32') / 255\n",
        "x_test = x_test.astype('float32') / 255\n"
      ],
      "execution_count": 0,
      "outputs": []
    },
    {
      "cell_type": "code",
      "metadata": {
        "id": "PXa_6L8JBgOq",
        "colab_type": "code",
        "colab": {
          "base_uri": "https://localhost:8080/",
          "height": 286
        },
        "outputId": "1b1adc36-3c43-4468-add0-9e4cb35d4cab"
      },
      "source": [
        "x_test = x_test.reshape(-1,28,28,1)\n",
        "x_train = x_train.reshape(-1,28,28,1)\n",
        "plt.imshow(x_test[0,:,:,0])"
      ],
      "execution_count": 23,
      "outputs": [
        {
          "output_type": "execute_result",
          "data": {
            "text/plain": [
              "<matplotlib.image.AxesImage at 0x7ff8ea7e3400>"
            ]
          },
          "metadata": {
            "tags": []
          },
          "execution_count": 23
        },
        {
          "output_type": "display_data",
          "data": {
            "image/png": "[encoded data removed]",
            "text/plain": [
              "<Figure size 432x288 with 1 Axes>"
            ]
          },
          "metadata": {
            "tags": []
          }
        }
      ]
    },
    {
      "cell_type": "code",
      "metadata": {
        "id": "B_EpiY-nA8u6",
        "colab_type": "code",
        "colab": {
          "base_uri": "https://localhost:8080/",
          "height": 503
        },
        "outputId": "f4da4c16-8709-4b95-d2a6-12677206634f"
      },
      "source": [
        "model = tf.keras.Sequential()# Must define the input shape in the first layer of the neural network\n",
        "model.add(tf.keras.layers.Conv2D(filters=64, kernel_size=2, padding='same', activation='relu', input_shape=(28,28,1))) \n",
        "model.add(tf.keras.layers.MaxPooling2D(pool_size=2))\n",
        "model.add(tf.keras.layers.Dropout(0.3))\n",
        "model.add(tf.keras.layers.Conv2D(filters=32, kernel_size=2, padding='same', activation='relu'))\n",
        "model.add(tf.keras.layers.MaxPooling2D(pool_size=2))\n",
        "model.add(tf.keras.layers.Dropout(0.3))\n",
        "model.add(tf.keras.layers.Flatten())\n",
        "model.add(tf.keras.layers.Dense(256, activation='relu'))\n",
        "model.add(tf.keras.layers.Dropout(0.5))\n",
        "model.add(tf.keras.layers.Dense(10, activation='softmax'))# Take a look at the model summary\n",
        "model.summary()"
      ],
      "execution_count": 20,
      "outputs": [
        {
          "output_type": "stream",
          "text": [
            "Model: \"sequential_1\"\n",
            "_________________________________________________________________\n",
            "Layer (type)                 Output Shape              Param #   \n",
            "=================================================================\n",
            "conv2d_2 (Conv2D)            (None, 28, 28, 64)        320       \n",
            "_________________________________________________________________\n",
            "max_pooling2d_2 (MaxPooling2 (None, 14, 14, 64)        0         \n",
            "_________________________________________________________________\n",
            "dropout_3 (Dropout)          (None, 14, 14, 64)        0         \n",
            "_________________________________________________________________\n",
            "conv2d_3 (Conv2D)            (None, 14, 14, 32)        8224      \n",
            "_________________________________________________________________\n",
            "max_pooling2d_3 (MaxPooling2 (None, 7, 7, 32)          0         \n",
            "_________________________________________________________________\n",
            "dropout_4 (Dropout)          (None, 7, 7, 32)          0         \n",
            "_________________________________________________________________\n",
            "flatten_1 (Flatten)          (None, 1568)              0         \n",
            "_________________________________________________________________\n",
            "dense_2 (Dense)              (None, 256)               401664    \n",
            "_________________________________________________________________\n",
            "dropout_5 (Dropout)          (None, 256)               0         \n",
            "_________________________________________________________________\n",
            "dense_3 (Dense)              (None, 10)                2570      \n",
            "=================================================================\n",
            "Total params: 412,778\n",
            "Trainable params: 412,778\n",
            "Non-trainable params: 0\n",
            "_________________________________________________________________\n"
          ],
          "name": "stdout"
        }
      ]
    },
    {
      "cell_type": "code",
      "metadata": {
        "id": "OvqN-8Y-A-ws",
        "colab_type": "code",
        "colab": {}
      },
      "source": [
        "model.compile(loss='sparse_categorical_crossentropy',\n",
        "             optimizer='adam',\n",
        "             metrics=['accuracy'])\n"
      ],
      "execution_count": 0,
      "outputs": []
    },
    {
      "cell_type": "code",
      "metadata": {
        "id": "WEcS4uUpBD6Q",
        "colab_type": "code",
        "colab": {
          "base_uri": "https://localhost:8080/",
          "height": 1000
        },
        "outputId": "2847fac3-6abb-4585-cdda-970392580eae"
      },
      "source": [
        "model.fit(x_train,\n",
        "         y_train,\n",
        "         batch_size=64,\n",
        "         epochs=50,\n",
        "         validation_data=(x_test, y_test))"
      ],
      "execution_count": 27,
      "outputs": [
        {
          "output_type": "stream",
          "text": [
            "Train on 60000 samples, validate on 10000 samples\n",
            "Epoch 1/50\n",
            "60000/60000 [==============================] - 4s 73us/sample - loss: 0.2587 - acc: 0.9046 - val_loss: 0.2423 - val_acc: 0.9104\n",
            "Epoch 2/50\n",
            "60000/60000 [==============================] - 4s 71us/sample - loss: 0.2522 - acc: 0.9080 - val_loss: 0.2332 - val_acc: 0.9122\n",
            "Epoch 3/50\n",
            "60000/60000 [==============================] - 4s 71us/sample - loss: 0.2487 - acc: 0.9081 - val_loss: 0.2322 - val_acc: 0.9151\n",
            "Epoch 4/50\n",
            "60000/60000 [==============================] - 4s 71us/sample - loss: 0.2440 - acc: 0.9092 - val_loss: 0.2256 - val_acc: 0.9173\n",
            "Epoch 5/50\n",
            "60000/60000 [==============================] - 4s 73us/sample - loss: 0.2392 - acc: 0.9099 - val_loss: 0.2284 - val_acc: 0.9171\n",
            "Epoch 6/50\n",
            "60000/60000 [==============================] - 4s 71us/sample - loss: 0.2363 - acc: 0.9120 - val_loss: 0.2248 - val_acc: 0.9186\n",
            "Epoch 7/50\n",
            "60000/60000 [==============================] - 4s 71us/sample - loss: 0.2325 - acc: 0.9137 - val_loss: 0.2325 - val_acc: 0.9146\n",
            "Epoch 8/50\n",
            "60000/60000 [==============================] - 4s 71us/sample - loss: 0.2281 - acc: 0.9146 - val_loss: 0.2253 - val_acc: 0.9210\n",
            "Epoch 9/50\n",
            "60000/60000 [==============================] - 4s 71us/sample - loss: 0.2295 - acc: 0.9149 - val_loss: 0.2232 - val_acc: 0.9178\n",
            "Epoch 10/50\n",
            "60000/60000 [==============================] - 4s 71us/sample - loss: 0.2236 - acc: 0.9173 - val_loss: 0.2200 - val_acc: 0.9178\n",
            "Epoch 11/50\n",
            "60000/60000 [==============================] - 4s 71us/sample - loss: 0.2176 - acc: 0.9184 - val_loss: 0.2190 - val_acc: 0.9215\n",
            "Epoch 12/50\n",
            "60000/60000 [==============================] - 4s 71us/sample - loss: 0.2156 - acc: 0.9187 - val_loss: 0.2176 - val_acc: 0.9204\n",
            "Epoch 13/50\n",
            "60000/60000 [==============================] - 4s 71us/sample - loss: 0.2141 - acc: 0.9197 - val_loss: 0.2160 - val_acc: 0.9239\n",
            "Epoch 14/50\n",
            "60000/60000 [==============================] - 4s 70us/sample - loss: 0.2103 - acc: 0.9212 - val_loss: 0.2194 - val_acc: 0.9199\n",
            "Epoch 15/50\n",
            "60000/60000 [==============================] - 4s 72us/sample - loss: 0.2108 - acc: 0.9218 - val_loss: 0.2234 - val_acc: 0.9180\n",
            "Epoch 16/50\n",
            "60000/60000 [==============================] - 4s 71us/sample - loss: 0.2083 - acc: 0.9216 - val_loss: 0.2141 - val_acc: 0.9227\n",
            "Epoch 17/50\n",
            "60000/60000 [==============================] - 4s 70us/sample - loss: 0.2042 - acc: 0.9227 - val_loss: 0.2225 - val_acc: 0.9179\n",
            "Epoch 18/50\n",
            "60000/60000 [==============================] - 4s 71us/sample - loss: 0.2043 - acc: 0.9232 - val_loss: 0.2197 - val_acc: 0.9221\n",
            "Epoch 19/50\n",
            "60000/60000 [==============================] - 4s 71us/sample - loss: 0.2036 - acc: 0.9242 - val_loss: 0.2344 - val_acc: 0.9166\n",
            "Epoch 20/50\n",
            "60000/60000 [==============================] - 4s 71us/sample - loss: 0.1999 - acc: 0.9241 - val_loss: 0.2123 - val_acc: 0.9249\n",
            "Epoch 21/50\n",
            "60000/60000 [==============================] - 4s 72us/sample - loss: 0.2004 - acc: 0.9249 - val_loss: 0.2114 - val_acc: 0.9256\n",
            "Epoch 22/50\n",
            "60000/60000 [==============================] - 4s 71us/sample - loss: 0.1938 - acc: 0.9267 - val_loss: 0.2192 - val_acc: 0.9207\n",
            "Epoch 23/50\n",
            "60000/60000 [==============================] - 4s 71us/sample - loss: 0.1944 - acc: 0.9266 - val_loss: 0.2127 - val_acc: 0.9237\n",
            "Epoch 24/50\n",
            "60000/60000 [==============================] - 4s 71us/sample - loss: 0.1953 - acc: 0.9260 - val_loss: 0.2136 - val_acc: 0.9219\n",
            "Epoch 25/50\n",
            "60000/60000 [==============================] - 4s 71us/sample - loss: 0.1945 - acc: 0.9270 - val_loss: 0.2079 - val_acc: 0.9252\n",
            "Epoch 26/50\n",
            "60000/60000 [==============================] - 4s 71us/sample - loss: 0.1917 - acc: 0.9270 - val_loss: 0.2145 - val_acc: 0.9236\n",
            "Epoch 27/50\n",
            "60000/60000 [==============================] - 4s 70us/sample - loss: 0.1917 - acc: 0.9277 - val_loss: 0.2182 - val_acc: 0.9237\n",
            "Epoch 28/50\n",
            "60000/60000 [==============================] - 4s 71us/sample - loss: 0.1883 - acc: 0.9292 - val_loss: 0.2172 - val_acc: 0.9241\n",
            "Epoch 29/50\n",
            "60000/60000 [==============================] - 4s 70us/sample - loss: 0.1890 - acc: 0.9287 - val_loss: 0.2142 - val_acc: 0.9244\n",
            "Epoch 30/50\n",
            "60000/60000 [==============================] - 4s 71us/sample - loss: 0.1871 - acc: 0.9298 - val_loss: 0.2177 - val_acc: 0.9238\n",
            "Epoch 31/50\n",
            "60000/60000 [==============================] - 4s 71us/sample - loss: 0.1889 - acc: 0.9295 - val_loss: 0.2110 - val_acc: 0.9234\n",
            "Epoch 32/50\n",
            "60000/60000 [==============================] - 4s 71us/sample - loss: 0.1851 - acc: 0.9311 - val_loss: 0.2078 - val_acc: 0.9273\n",
            "Epoch 33/50\n",
            "60000/60000 [==============================] - 4s 71us/sample - loss: 0.1814 - acc: 0.9308 - val_loss: 0.2106 - val_acc: 0.9269\n",
            "Epoch 34/50\n",
            "60000/60000 [==============================] - 4s 70us/sample - loss: 0.1821 - acc: 0.9315 - val_loss: 0.2125 - val_acc: 0.9269\n",
            "Epoch 35/50\n",
            "60000/60000 [==============================] - 4s 70us/sample - loss: 0.1831 - acc: 0.9307 - val_loss: 0.2121 - val_acc: 0.9243\n",
            "Epoch 36/50\n",
            "60000/60000 [==============================] - 4s 71us/sample - loss: 0.1804 - acc: 0.9324 - val_loss: 0.2154 - val_acc: 0.9266\n",
            "Epoch 37/50\n",
            "60000/60000 [==============================] - 4s 71us/sample - loss: 0.1795 - acc: 0.9320 - val_loss: 0.2196 - val_acc: 0.9234\n",
            "Epoch 38/50\n",
            "60000/60000 [==============================] - 4s 73us/sample - loss: 0.1795 - acc: 0.9323 - val_loss: 0.2233 - val_acc: 0.9234\n",
            "Epoch 39/50\n",
            "60000/60000 [==============================] - 4s 73us/sample - loss: 0.1777 - acc: 0.9324 - val_loss: 0.2154 - val_acc: 0.9258\n",
            "Epoch 40/50\n",
            "60000/60000 [==============================] - 4s 74us/sample - loss: 0.1775 - acc: 0.9326 - val_loss: 0.2154 - val_acc: 0.9233\n",
            "Epoch 41/50\n",
            "60000/60000 [==============================] - 4s 70us/sample - loss: 0.1732 - acc: 0.9350 - val_loss: 0.2180 - val_acc: 0.9260\n",
            "Epoch 42/50\n",
            "60000/60000 [==============================] - 4s 71us/sample - loss: 0.1745 - acc: 0.9334 - val_loss: 0.2176 - val_acc: 0.9264\n",
            "Epoch 43/50\n",
            "60000/60000 [==============================] - 4s 71us/sample - loss: 0.1765 - acc: 0.9337 - val_loss: 0.2145 - val_acc: 0.9258\n",
            "Epoch 44/50\n",
            "60000/60000 [==============================] - 4s 71us/sample - loss: 0.1764 - acc: 0.9329 - val_loss: 0.2128 - val_acc: 0.9231\n",
            "Epoch 45/50\n",
            "60000/60000 [==============================] - 4s 71us/sample - loss: 0.1725 - acc: 0.9353 - val_loss: 0.2158 - val_acc: 0.9263\n",
            "Epoch 46/50\n",
            "60000/60000 [==============================] - 4s 70us/sample - loss: 0.1725 - acc: 0.9344 - val_loss: 0.2133 - val_acc: 0.9279\n",
            "Epoch 47/50\n",
            "60000/60000 [==============================] - 4s 70us/sample - loss: 0.1691 - acc: 0.9363 - val_loss: 0.2179 - val_acc: 0.9256\n",
            "Epoch 48/50\n",
            "60000/60000 [==============================] - 4s 71us/sample - loss: 0.1689 - acc: 0.9354 - val_loss: 0.2190 - val_acc: 0.9233\n",
            "Epoch 49/50\n",
            "60000/60000 [==============================] - 4s 70us/sample - loss: 0.1713 - acc: 0.9353 - val_loss: 0.2292 - val_acc: 0.9227\n",
            "Epoch 50/50\n",
            "60000/60000 [==============================] - 4s 71us/sample - loss: 0.1704 - acc: 0.9353 - val_loss: 0.2214 - val_acc: 0.9239\n"
          ],
          "name": "stdout"
        },
        {
          "output_type": "execute_result",
          "data": {
            "text/plain": [
              "<tensorflow.python.keras.callbacks.History at 0x7ff8ea3e3e10>"
            ]
          },
          "metadata": {
            "tags": []
          },
          "execution_count": 27
        }
      ]
    },
    {
      "cell_type": "code",
      "metadata": {
        "id": "IgGxH0YOBGLm",
        "colab_type": "code",
        "colab": {
          "base_uri": "https://localhost:8080/",
          "height": 34
        },
        "outputId": "7cc2225d-7072-4e20-d745-85c5c661cdb9"
      },
      "source": [
        "model.save()"
      ],
      "execution_count": 30,
      "outputs": [
        {
          "output_type": "execute_result",
          "data": {
            "text/plain": [
              "<tensorflow.python.keras.layers.core.Dense at 0x7ff8ea9927b8>"
            ]
          },
          "metadata": {
            "tags": []
          },
          "execution_count": 30
        }
      ]
    },
    {
      "cell_type": "code",
      "metadata": {
        "id": "USzMaPOxRWAP",
        "colab_type": "code",
        "colab": {
          "base_uri": "https://localhost:8080/",
          "height": 191
        },
        "outputId": "72bb3473-4144-4ac3-99e1-251f0f9fb663"
      },
      "source": [
        "model.layers"
      ],
      "execution_count": 31,
      "outputs": [
        {
          "output_type": "execute_result",
          "data": {
            "text/plain": [
              "[<tensorflow.python.keras.layers.convolutional.Conv2D at 0x7ff8eaa26400>,\n",
              " <tensorflow.python.keras.layers.pooling.MaxPooling2D at 0x7ff8eaa26128>,\n",
              " <tensorflow.python.keras.layers.core.Dropout at 0x7ff8eaa3b1d0>,\n",
              " <tensorflow.python.keras.layers.convolutional.Conv2D at 0x7ff8eaa26a20>,\n",
              " <tensorflow.python.keras.layers.pooling.MaxPooling2D at 0x7ff8eaa3bf60>,\n",
              " <tensorflow.python.keras.layers.core.Dropout at 0x7ff8eaa3eb38>,\n",
              " <tensorflow.python.keras.layers.core.Flatten at 0x7ff8ea9f0e48>,\n",
              " <tensorflow.python.keras.layers.core.Dense at 0x7ff8eaa3b080>,\n",
              " <tensorflow.python.keras.layers.core.Dropout at 0x7ff8ea9d9128>,\n",
              " <tensorflow.python.keras.layers.core.Dense at 0x7ff8ea9927b8>]"
            ]
          },
          "metadata": {
            "tags": []
          },
          "execution_count": 31
        }
      ]
    },
    {
      "cell_type": "code",
      "metadata": {
        "id": "RG0cEG8GRZm0",
        "colab_type": "code",
        "colab": {}
      },
      "source": [
        ""
      ],
      "execution_count": 0,
      "outputs": []
    }
  ]
}